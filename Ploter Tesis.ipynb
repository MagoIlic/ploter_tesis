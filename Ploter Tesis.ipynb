{
 "cells": [
  {
   "cell_type": "markdown",
   "metadata": {},
   "source": [
    "# Creador de Gráficos"
   ]
  },
  {
   "cell_type": "markdown",
   "metadata": {},
   "source": [
    "## Importamos librerías"
   ]
  },
  {
   "cell_type": "code",
   "execution_count": 1,
   "metadata": {
    "ExecuteTime": {
     "end_time": "2020-06-20T23:19:31.319892Z",
     "start_time": "2020-06-20T23:19:29.140754Z"
    }
   },
   "outputs": [],
   "source": [
    "import pandas as pd\n",
    "import numpy as np\n",
    "import matplotlib.pyplot as plt\n",
    "%matplotlib inline\n",
    "import os\n",
    "import glob\n",
    "import moviepy.editor as mpy\n",
    "import gc"
   ]
  },
  {
   "cell_type": "markdown",
   "metadata": {},
   "source": [
    "## Datos\n",
    "Se leen los datos y se guardan en DataFrames. Además se agregan los datos de las estructuras a mano."
   ]
  },
  {
   "cell_type": "markdown",
   "metadata": {},
   "source": [
    "### General, Control y Estudio\n",
    "Atención y Entendimiento de Magia, Vogler, Harmon, Aristóteles, 6 Generales y 7 Control"
   ]
  },
  {
   "cell_type": "markdown",
   "metadata": {
    "heading_collapsed": true
   },
   "source": [
    "#### 3600"
   ]
  },
  {
   "cell_type": "code",
   "execution_count": 2,
   "metadata": {
    "ExecuteTime": {
     "end_time": "2020-06-20T23:19:38.454894Z",
     "start_time": "2020-06-20T23:19:37.713944Z"
    },
    "code_folding": [],
    "hidden": true
   },
   "outputs": [],
   "source": [
    "#Datos de Estudio\n",
    "files = [file for file in os.listdir('Datos')]\n",
    "\n",
    "All = pd.DataFrame()\n",
    "l=np.full(len(files),3600)\n",
    "largo=np.cumsum(l)\n",
    "for file in files:\n",
    "    df = pd.read_table('Datos/'+file,sep=\"\\s+\", header=None)\n",
    "    df['Archivo'] = file\n",
    "    All =pd.concat([All, df])"
   ]
  },
  {
   "cell_type": "code",
   "execution_count": 3,
   "metadata": {
    "ExecuteTime": {
     "end_time": "2020-06-20T23:19:39.918537Z",
     "start_time": "2020-06-20T23:19:39.598204Z"
    },
    "code_folding": [],
    "hidden": true
   },
   "outputs": [],
   "source": [
    "#Creamos los dataframes\n",
    "C1800 = pd.concat([All.loc[(All['Archivo'] == files[0])], All.loc[All['Archivo']==files[1]]], axis=1, sort=False)\n",
    "C1800.columns = ['At','Dv','Archivo','Ent','DvE','Archivo']\n",
    "C1800.drop(columns='Archivo',inplace=True)\n",
    "\n",
    "C1200 = pd.concat([All.loc[(All['Archivo'] == files[2])], All.loc[All['Archivo']==files[3]]], axis=1, sort=False)\n",
    "C1200.columns = ['At','Dv','Archivo','Ent','DvE','Archivo']\n",
    "C1200.drop(columns='Archivo',inplace=True)\n",
    "\n",
    "C600 = pd.concat([All.loc[(All['Archivo'] == files[4])], All.loc[All['Archivo']==files[5]]], axis=1, sort=False)\n",
    "C600.columns = ['At','Dv','Archivo','Ent','DvE','Archivo']\n",
    "C600.drop(columns='Archivo',inplace=True)\n",
    "\n",
    "C360 = pd.concat([All.loc[(All['Archivo'] == files[6])], All.loc[All['Archivo']==files[7]]], axis=1, sort=False)\n",
    "C360.columns = ['At','Dv','Archivo','Ent','DvE','Archivo']\n",
    "C360.drop(columns='Archivo',inplace=True)\n",
    "\n",
    "C180 = pd.concat([All.loc[(All['Archivo'] == files[8])], All.loc[All['Archivo']==files[9]]], axis=1, sort=False)\n",
    "C180.columns = ['At','Dv','Archivo','Ent','DvE','Archivo']\n",
    "C180.drop(columns='Archivo',inplace=True)\n",
    "\n",
    "C90 = pd.concat([All.loc[(All['Archivo'] == files[10])], All.loc[All['Archivo']==files[11]]], axis=1, sort=False)\n",
    "C90.columns = ['At','Dv','Archivo','Ent','DvE','Archivo']\n",
    "C90.drop(columns='Archivo',inplace=True)\n",
    "\n",
    "C30 = pd.concat([All.loc[(All['Archivo'] == files[12])], All.loc[All['Archivo']==files[13]]], axis=1, sort=False)\n",
    "C30.columns = ['At','Dv','Archivo','Ent','DvE','Archivo']\n",
    "C30.drop(columns='Archivo',inplace=True)\n",
    "\n",
    "S1800 = pd.concat([All.loc[(All['Archivo'] == files[14])], All.loc[All['Archivo']==files[15]]], axis=1, sort=False)\n",
    "S1800.columns = ['At','Dv','Archivo','Ent','DvE','Archivo']\n",
    "S1800.drop(columns='Archivo',inplace=True)\n",
    "\n",
    "S3600 = pd.concat([All.loc[(All['Archivo'] == files[16])], All.loc[All['Archivo']==files[17]]], axis=1, sort=False)\n",
    "S3600.columns = ['At','Dv','Archivo','Ent','DvE','Archivo']\n",
    "S3600.drop(columns='Archivo',inplace=True)\n",
    "\n",
    "S5400 = pd.concat([All.loc[(All['Archivo'] == files[18])], All.loc[All['Archivo']==files[19]]], axis=1, sort=False)\n",
    "S5400.columns = ['At','Dv','Archivo','Ent','DvE','Archivo']\n",
    "S5400.drop(columns='Archivo',inplace=True)\n",
    "\n",
    "S100 = pd.concat([All.loc[(All['Archivo'] == files[20])], All.loc[All['Archivo']==files[21]]], axis=1, sort=False)\n",
    "S100.columns = ['At','Dv','Archivo','Ent','DvE','Archivo']\n",
    "S100.drop(columns='Archivo',inplace=True)\n",
    "\n",
    "S500 = pd.concat([All.loc[(All['Archivo'] == files[22])], All.loc[All['Archivo']==files[23]]], axis=1, sort=False)\n",
    "S500.columns = ['At','Dv','Archivo','Ent','DvE','Archivo']\n",
    "S500.drop(columns='Archivo',inplace=True)\n",
    "\n",
    "S1000 = pd.concat([All.loc[(All['Archivo'] == files[24])], All.loc[All['Archivo']==files[25]]], axis=1, sort=False)\n",
    "S1000.columns = ['At','Dv','Archivo','Ent','DvE','Archivo']\n",
    "S1000.drop(columns='Archivo',inplace=True)\n",
    "\n",
    "Magia = pd.concat([All.loc[(All['Archivo'] == files[26])], All.loc[All['Archivo']==files[27]]], axis=1, sort=False)\n",
    "Magia.columns = ['At','Dv','Archivo','Ent','DvE','Archivo']\n",
    "Magia.drop(columns='Archivo',inplace=True)\n",
    "\n",
    "Vogler = pd.concat([All.loc[(All['Archivo'] == files[28])], All.loc[All['Archivo']==files[29]]], axis=1, sort=False)\n",
    "Vogler.columns = ['At','Dv','Archivo','Ent','DvE','Archivo']\n",
    "Vogler.drop(columns='Archivo',inplace=True)\n",
    "\n",
    "Harmon = pd.concat([All.loc[(All['Archivo'] == files[30])], All.loc[All['Archivo']==files[31]]], axis=1, sort=False)\n",
    "Harmon.columns = ['At','Dv','Archivo','Ent','DvE','Archivo']\n",
    "Harmon.drop(columns='Archivo',inplace=True)\n",
    "\n",
    "Arist = pd.concat([All.loc[(All['Archivo'] == files[32])], All.loc[All['Archivo']==files[33]]], axis=1, sort=False)\n",
    "Arist.columns = ['At','Dv','Archivo','Ent','DvE','Archivo']\n",
    "Arist.drop(columns='Archivo',inplace=True)"
   ]
  },
  {
   "cell_type": "markdown",
   "metadata": {
    "heading_collapsed": true
   },
   "source": [
    "#### 2700 y 1800"
   ]
  },
  {
   "cell_type": "code",
   "execution_count": 4,
   "metadata": {
    "ExecuteTime": {
     "end_time": "2020-06-20T23:19:43.504204Z",
     "start_time": "2020-06-20T23:19:42.723280Z"
    },
    "hidden": true
   },
   "outputs": [],
   "source": [
    "#Datos de Estudio\n",
    "files1800y2700 = [file for file in os.listdir('estudio_control_1800y2700')]\n",
    "AllOtros = pd.DataFrame()\n",
    "\n",
    "for file in files1800y2700:\n",
    "    df1800 = pd.read_table('estudio_control_1800y2700/'+file,sep=\"\\s+\", header=None)\n",
    "    df1800['Archivo'] = file\n",
    "    AllOtros =pd.concat([AllOtros, df1800])\n"
   ]
  },
  {
   "cell_type": "code",
   "execution_count": 5,
   "metadata": {
    "ExecuteTime": {
     "end_time": "2020-06-20T23:19:44.860035Z",
     "start_time": "2020-06-20T23:19:44.524518Z"
    },
    "hidden": true
   },
   "outputs": [],
   "source": [
    "#Creamos los dataframes\n",
    "C30_1800 = pd.concat([AllOtros.loc[(AllOtros['Archivo'] == files1800y2700[0])], AllOtros.loc[AllOtros['Archivo']==files1800y2700[1]]], axis=1, sort=False)\n",
    "C30_1800.columns = ['At','Dv','Archivo','Ent','DvE','Archivo']\n",
    "C30_1800.drop(columns='Archivo',inplace=True)\n",
    "\n",
    "C90_1800 = pd.concat([AllOtros.loc[(AllOtros['Archivo'] == files1800y2700[2])], AllOtros.loc[AllOtros['Archivo']==files1800y2700[3]]], axis=1, sort=False)\n",
    "C90_1800.columns = ['At','Dv','Archivo','Ent','DvE','Archivo']\n",
    "C90_1800.drop(columns='Archivo',inplace=True)\n",
    "\n",
    "C180_1800 = pd.concat([AllOtros.loc[(AllOtros['Archivo'] == files1800y2700[4])], AllOtros.loc[AllOtros['Archivo']==files1800y2700[5]]], axis=1, sort=False)\n",
    "C180_1800.columns = ['At','Dv','Archivo','Ent','DvE','Archivo']\n",
    "C180_1800.drop(columns='Archivo',inplace=True)\n",
    "\n",
    "C360_1800 = pd.concat([AllOtros.loc[(AllOtros['Archivo'] == files1800y2700[6])], AllOtros.loc[AllOtros['Archivo']==files1800y2700[7]]], axis=1, sort=False)\n",
    "C360_1800.columns = ['At','Dv','Archivo','Ent','DvE','Archivo']\n",
    "C360_1800.drop(columns='Archivo',inplace=True)\n",
    "\n",
    "C600_1800 = pd.concat([AllOtros.loc[(AllOtros['Archivo'] == files1800y2700[8])], AllOtros.loc[AllOtros['Archivo']==files1800y2700[9]]], axis=1, sort=False)\n",
    "C600_1800.columns = ['At','Dv','Archivo','Ent','DvE','Archivo']\n",
    "C600_1800.drop(columns='Archivo',inplace=True)\n",
    "\n",
    "C1200_1800 = pd.concat([AllOtros.loc[(AllOtros['Archivo'] == files1800y2700[10])], AllOtros.loc[AllOtros['Archivo']==files1800y2700[11]]], axis=1, sort=False)\n",
    "C1200_1800.columns = ['At','Dv','Archivo','Ent','DvE','Archivo']\n",
    "C1200_1800.drop(columns='Archivo',inplace=True)\n",
    "\n",
    "C1800_1800 = pd.concat([AllOtros.loc[(AllOtros['Archivo'] == files1800y2700[12])], AllOtros.loc[AllOtros['Archivo']==files1800y2700[13]]], axis=1, sort=False)\n",
    "C1800_1800.columns = ['At','Dv','Archivo','Ent','DvE','Archivo']\n",
    "C1800_1800.drop(columns='Archivo',inplace=True)\n",
    "\n",
    "C30_2700 = pd.concat([AllOtros.loc[(AllOtros['Archivo'] == files1800y2700[14])], AllOtros.loc[AllOtros['Archivo']==files1800y2700[15]]], axis=1, sort=False)\n",
    "C30_2700.columns = ['At','Dv','Archivo','Ent','DvE','Archivo']\n",
    "C30_2700.drop(columns='Archivo',inplace=True)\n",
    "\n",
    "C90_2700 = pd.concat([AllOtros.loc[(AllOtros['Archivo'] == files1800y2700[16])], AllOtros.loc[AllOtros['Archivo']==files1800y2700[17]]], axis=1, sort=False)\n",
    "C90_2700.columns = ['At','Dv','Archivo','Ent','DvE','Archivo']\n",
    "C90_2700.drop(columns='Archivo',inplace=True)\n",
    "\n",
    "C180_2700 = pd.concat([AllOtros.loc[(AllOtros['Archivo'] == files1800y2700[18])], AllOtros.loc[AllOtros['Archivo']==files1800y2700[19]]], axis=1, sort=False)\n",
    "C180_2700.columns = ['At','Dv','Archivo','Ent','DvE','Archivo']\n",
    "C180_2700.drop(columns='Archivo',inplace=True)\n",
    "\n",
    "C360_2700 = pd.concat([AllOtros.loc[(AllOtros['Archivo'] == files1800y2700[20])], AllOtros.loc[AllOtros['Archivo']==files1800y2700[21]]], axis=1, sort=False)\n",
    "C360_2700.columns = ['At','Dv','Archivo','Ent','DvE','Archivo']\n",
    "C360_2700.drop(columns='Archivo',inplace=True)\n",
    "\n",
    "C600_2700 = pd.concat([AllOtros.loc[(AllOtros['Archivo'] == files1800y2700[22])], AllOtros.loc[AllOtros['Archivo']==files1800y2700[23]]], axis=1, sort=False)\n",
    "C600_2700.columns = ['At','Dv','Archivo','Ent','DvE','Archivo']\n",
    "C600_2700.drop(columns='Archivo',inplace=True)\n",
    "\n",
    "C1200_2700 = pd.concat([AllOtros.loc[(AllOtros['Archivo'] == files1800y2700[24])], AllOtros.loc[AllOtros['Archivo']==files1800y2700[25]]], axis=1, sort=False)\n",
    "C1200_2700.columns = ['At','Dv','Archivo','Ent','DvE','Archivo']\n",
    "C1200_2700.drop(columns='Archivo',inplace=True)\n",
    "\n",
    "C1800_2700 = pd.concat([AllOtros.loc[(AllOtros['Archivo'] == files1800y2700[26])], AllOtros.loc[AllOtros['Archivo']==files1800y2700[27]]], axis=1, sort=False)\n",
    "C1800_2700.columns = ['At','Dv','Archivo','Ent','DvE','Archivo']\n",
    "C1800_2700.drop(columns='Archivo',inplace=True)\n",
    "\n",
    "Magia_1800 = pd.concat([AllOtros.loc[(AllOtros['Archivo'] == files1800y2700[28])], AllOtros.loc[AllOtros['Archivo']==files1800y2700[29]]], axis=1, sort=False)\n",
    "Magia_1800.columns = ['At','Dv','Archivo','Ent','DvE','Archivo']\n",
    "Magia_1800.drop(columns='Archivo',inplace=True)\n",
    "\n",
    "Magia_2700 = pd.concat([AllOtros.loc[(AllOtros['Archivo'] == files1800y2700[30])], AllOtros.loc[AllOtros['Archivo']==files1800y2700[31]]], axis=1, sort=False)\n",
    "Magia_2700.columns = ['At','Dv','Archivo','Ent','DvE','Archivo']\n",
    "Magia_2700.drop(columns='Archivo',inplace=True)\n",
    "\n",
    "Vogler_1800 = pd.concat([AllOtros.loc[(AllOtros['Archivo'] == files1800y2700[32])], AllOtros.loc[AllOtros['Archivo']==files1800y2700[33]]], axis=1, sort=False)\n",
    "Vogler_1800.columns = ['At','Dv','Archivo','Ent','DvE','Archivo']\n",
    "Vogler_1800.drop(columns='Archivo',inplace=True)\n",
    "\n",
    "Vogler_2700 = pd.concat([AllOtros.loc[(AllOtros['Archivo'] == files1800y2700[34])], AllOtros.loc[AllOtros['Archivo']==files1800y2700[35]]], axis=1, sort=False)\n",
    "Vogler_2700.columns = ['At','Dv','Archivo','Ent','DvE','Archivo']\n",
    "Vogler_2700.drop(columns='Archivo',inplace=True)\n",
    "\n",
    "Harmon_1800 = pd.concat([AllOtros.loc[(AllOtros['Archivo'] == files1800y2700[36])], AllOtros.loc[AllOtros['Archivo']==files1800y2700[37]]], axis=1, sort=False)\n",
    "Harmon_1800.columns = ['At','Dv','Archivo','Ent','DvE','Archivo']\n",
    "Harmon_1800.drop(columns='Archivo',inplace=True)\n",
    "\n",
    "Harmon_2700 = pd.concat([AllOtros.loc[(AllOtros['Archivo'] == files1800y2700[38])], AllOtros.loc[AllOtros['Archivo']==files1800y2700[39]]], axis=1, sort=False)\n",
    "Harmon_2700.columns = ['At','Dv','Archivo','Ent','DvE','Archivo']\n",
    "Harmon_2700.drop(columns='Archivo',inplace=True)\n",
    "\n",
    "Arist_2700 = pd.concat([AllOtros.loc[(AllOtros['Archivo'] == files1800y2700[40])], AllOtros.loc[AllOtros['Archivo']==files1800y2700[41]]], axis=1, sort=False)\n",
    "Arist_2700.columns = ['At','Dv','Archivo','Ent','DvE','Archivo']\n",
    "Arist_2700.drop(columns='Archivo',inplace=True)\n",
    "\n",
    "Arist_2700 = pd.concat([AllOtros.loc[(AllOtros['Archivo'] == files1800y2700[42])], AllOtros.loc[AllOtros['Archivo']==files1800y2700[43]]], axis=1, sort=False)\n",
    "Arist_2700.columns = ['At','Dv','Archivo','Ent','DvE','Archivo']\n",
    "Arist_2700.drop(columns='Archivo',inplace=True)\n"
   ]
  },
  {
   "cell_type": "markdown",
   "metadata": {},
   "source": [
    "### Datos Curvas Efectividad"
   ]
  },
  {
   "cell_type": "markdown",
   "metadata": {
    "heading_collapsed": true
   },
   "source": [
    "#### Funciones de Cálculo\n",
    "Estas funciones ayudan a calcular cuanta información entregó el charlista. Independientemente de si fue recibida o no."
   ]
  },
  {
   "cell_type": "code",
   "execution_count": null,
   "metadata": {
    "ExecuteTime": {
     "end_time": "2020-06-20T22:37:29.013292Z",
     "start_time": "2020-06-20T22:37:29.007307Z"
    },
    "code_folding": [],
    "hidden": true
   },
   "outputs": [],
   "source": [
    "def bits_entregados(E,P):\n",
    "    R = np.zeros(len(P))\n",
    "    for i in range(len(P)):\n",
    "        R[i] = E[i+1]-(E[i]+P[i])\n",
    "    return sum(R)"
   ]
  },
  {
   "cell_type": "code",
   "execution_count": null,
   "metadata": {
    "ExecuteTime": {
     "end_time": "2020-06-20T22:37:30.399232Z",
     "start_time": "2020-06-20T22:37:30.389260Z"
    },
    "code_folding": [],
    "hidden": true
   },
   "outputs": [],
   "source": [
    "def calculador(I,pausa):\n",
    "    pausa=int(pausa)\n",
    "    n = int(3600/(I+pausa))\n",
    "    E = np.arange(n+2)\n",
    "    P = np.full(n+1,pausa)\n",
    "    P[0] = 0\n",
    "    for i in range(n+2):\n",
    "        if i == 0:\n",
    "            E[0] = 0\n",
    "        else:\n",
    "            E[i] = i*I+((i-1)*pausa)\n",
    "    E[n+1] = 3600\n",
    "    #print(E)\n",
    "    R = np.zeros(len(P))\n",
    "    for i in range(len(P)):\n",
    "        R[i] = E[i+1]-(E[i]+P[i])\n",
    "    if R[-1] > I:\n",
    "        return calculador2(I,pausa)\n",
    "    else:\n",
    "     #   print(R)\n",
    "        return sum(R)"
   ]
  },
  {
   "cell_type": "code",
   "execution_count": null,
   "metadata": {
    "ExecuteTime": {
     "end_time": "2020-06-20T22:37:31.297327Z",
     "start_time": "2020-06-20T22:37:31.286360Z"
    },
    "code_folding": [],
    "hidden": true
   },
   "outputs": [],
   "source": [
    "def calculador2(I,pausa):\n",
    "    pausa=int(pausa)\n",
    "    n = int(3600/(I+pausa))\n",
    "    E = np.arange(n+3)\n",
    "    P = np.full(n+2,pausa)\n",
    "    P[0] = 0\n",
    "    for i in range(n+3):\n",
    "        if i == 0:\n",
    "            E[0] = 0\n",
    "        else:\n",
    "            E[i] = i*I+((i-1)*pausa)\n",
    "    E[n+2] = 3600\n",
    "    #print(E)\n",
    "    R = np.zeros(len(P))\n",
    "    for i in range(len(P)):\n",
    "        R[i] = E[i+1]-(E[i]+P[i])\n",
    "    R[n+1] = E[n+2]-E[n+1]\n",
    "    #print(R)\n",
    "    if R[-1] < 0:\n",
    "        print('Error')\n",
    "    else:\n",
    "        return sum(R)"
   ]
  },
  {
   "cell_type": "markdown",
   "metadata": {
    "heading_collapsed": true
   },
   "source": [
    "#### Datos deade 1s hasta 3600s"
   ]
  },
  {
   "cell_type": "code",
   "execution_count": null,
   "metadata": {
    "ExecuteTime": {
     "end_time": "2020-06-19T15:13:27.269393Z",
     "start_time": "2020-06-19T15:13:26.982061Z"
    },
    "code_folding": [],
    "hidden": true,
    "scrolled": true
   },
   "outputs": [],
   "source": [
    "# #Leemos todos los archivos de la carpeta y creamos 1 DataFrame por archivo (Versión Antigua)\n",
    "por_1 = pd.read_table('MasData/ec_1_data.dat',sep=\"\\s+\", header=None)\n",
    "por_1 = por_1.rename(columns={0: 'Intervalo', 1: 'Ent'})\n",
    "por_4 = pd.read_table('MasData/ec_4_data.dat',sep=\"\\s+\", header=None)\n",
    "por_4 = por_4.rename(columns={0: 'Intervalo', 1: 'Ent'})\n",
    "por_8 = pd.read_table('MasData/ec_8_data.dat',sep=\"\\s+\", header=None)\n",
    "por_8 = por_8.rename(columns={0: 'Intervalo', 1: 'Ent'})\n",
    "por_10 = pd.read_table('MasData/ec_10_data.dat',sep=\"\\s+\", header=None)\n",
    "por_10 = por_10.rename(columns={0: 'Intervalo', 1: 'Ent'})\n",
    "por_16 = pd.read_table('MasData/ec_16_data.dat',sep=\"\\s+\", header=None)\n",
    "por_16 = por_16.rename(columns={0: 'Intervalo', 1: 'Ent'})\n",
    "por_20 = pd.read_table('MasData/ec_20_data.dat',sep=\"\\s+\", header=None)\n",
    "por_20 = por_20.rename(columns={0: 'Intervalo', 1: 'Ent'})\n",
    "por_31 = pd.read_table('MasData/ec_31_data.dat',sep=\"\\s+\", header=None)\n",
    "por_31 = por_31.rename(columns={0: 'Intervalo', 1: 'Ent'})\n",
    "por_40 = pd.read_table('MasData/ec_40_data.dat',sep=\"\\s+\", header=None)\n",
    "por_40 = por_40.rename(columns={0: 'Intervalo', 1: 'Ent'})\n",
    "por_50 = pd.read_table('MasData/ec_50_data.dat',sep=\"\\s+\", header=None)\n",
    "por_50 = por_50.rename(columns={0: 'Intervalo', 1: 'Ent'})\n",
    "por_100 = pd.read_table('MasData/ec_100_data.dat',sep=\"\\s+\", header=None)\n",
    "por_100 = por_100.rename(columns={0: 'Intervalo', 1: 'Ent'})\n",
    "por_150 = pd.read_table('MasData/ec_150_data.dat',sep=\"\\s+\", header=None)\n",
    "por_150 = por_150.rename(columns={0: 'Intervalo', 1: 'Ent'})\n",
    "por_225 = pd.read_table('MasData/ec_225_data.dat',sep=\"\\s+\", header=None)\n",
    "por_225 = por_225.rename(columns={0: 'Intervalo', 1: 'Ent'})\n",
    "por_300 = pd.read_table('MasData/ec_300_data.dat',sep=\"\\s+\", header=None)\n",
    "por_300 = por_300.rename(columns={0: 'Intervalo', 1: 'Ent'})\n",
    "por_450 = pd.read_table('MasData/ec_450_data.dat',sep=\"\\s+\", header=None)\n",
    "por_450 = por_450.rename(columns={0: 'Intervalo', 1: 'Ent'})\n",
    "por_600 = pd.read_table('MasData/ec_600_data.dat',sep=\"\\s+\", header=None)\n",
    "por_600 = por_600.rename(columns={0: 'Intervalo', 1: 'Ent'})\n",
    "por_1200 = pd.read_table('MasData/ec_1200_data.dat',sep=\"\\s+\", header=None)\n",
    "por_1200 = por_1200.rename(columns={0: 'Intervalo', 1: 'Ent'})\n",
    "por_1800 = pd.read_table('MasData/ec_1800_data.dat',sep=\"\\s+\", header=None)\n",
    "por_1800 = por_1800.rename(columns={0: 'Intervalo', 1: 'Ent'})\n",
    "por_3600 = pd.read_table('MasData/ec_3600_data.dat',sep=\"\\s+\", header=None)\n",
    "por_3600 = por_3600.rename(columns={0: 'Intervalo', 1: 'Ent'})\n",
    "\n"
   ]
  },
  {
   "cell_type": "code",
   "execution_count": null,
   "metadata": {
    "ExecuteTime": {
     "end_time": "2020-06-19T15:15:34.401305Z",
     "start_time": "2020-06-19T15:15:33.948507Z"
    },
    "code_folding": [],
    "hidden": true
   },
   "outputs": [],
   "source": [
    "# #Creamos la columna con los valores de emisión, agregamos, renombramos columnas y ordenamos de mayor a menor. (Antiguo)\n",
    "intervalos1  = np.arange(5,3601,step=5)\n",
    "\n",
    "entregados1  =np.zeros(len(intervalos1))\n",
    "entregados4  =np.zeros(len(intervalos1))\n",
    "entregados8  =np.zeros(len(intervalos1))\n",
    "entregados10 =np.zeros(len(intervalos1))\n",
    "entregados16  =np.zeros(len(intervalos1))\n",
    "entregados20  =np.zeros(len(intervalos1))\n",
    "entregados31  =np.zeros(len(intervalos1))\n",
    "entregados40  =np.zeros(len(intervalos1))\n",
    "entregados50  = np.zeros(len(intervalos1))\n",
    "entregados100  =np.zeros(len(intervalos1))\n",
    "entregados150  =np.zeros(len(intervalos1))\n",
    "entregados225  =np.zeros(len(intervalos1))\n",
    "entregados300  =np.zeros(len(intervalos1))\n",
    "entregados450  =np.zeros(len(intervalos1))\n",
    "entregados600  =np.zeros(len(intervalos1))\n",
    "entregados1200 =np.zeros(len(intervalos1))\n",
    "entregados1800 =np.zeros(len(intervalos1))\n",
    "entregados3600  =np.zeros(len(intervalos1))\n",
    "\n",
    "for i in range(len(intervalos1)):\n",
    "    entregados1[i] = calculador(intervalos1[i],1)/3600\n",
    "    entregados4[i] = calculador(intervalos1[i],4)/3600\n",
    "    entregados8[i] = calculador(intervalos1[i],8)/3600\n",
    "    entregados10[i] = calculador(intervalos1[i],10)/3600\n",
    "    entregados16[i] = calculador(intervalos1[i],16)/3600\n",
    "    entregados20[i] = calculador(intervalos1[i],20)/3600\n",
    "    entregados31[i] = calculador(intervalos1[i],31)/3600\n",
    "    entregados40[i] = calculador(intervalos1[i],40)/3600\n",
    "    entregados50[i] = calculador(intervalos1[i],50)/3600\n",
    "    entregados100[i] = calculador(intervalos1[i],100)/3600\n",
    "    entregados150[i] = calculador(intervalos1[i],150)/3600\n",
    "    entregados225[i] = calculador(intervalos1[i],225)/3600\n",
    "    entregados300[i] = calculador(intervalos1[i],300)/3600\n",
    "    entregados450[i] = calculador(intervalos1[i],450)/3600\n",
    "    entregados600[i] = calculador(intervalos1[i],600)/3600\n",
    "    entregados1200[i] = calculador(intervalos1[i],1200)/3600\n",
    "    entregados1800[i] = calculador(intervalos1[i],1800)/3600\n",
    "    entregados3600[i] = calculador(intervalos1[i],3600)/3600\n",
    "\n",
    "por_1['Entregado'] = entregados1\n",
    "por_4['Entregado'] = entregados4\n",
    "por_8['Entregado'] = entregados8\n",
    "por_10['Entregado'] = entregados10\n",
    "por_16['Entregado'] = entregados16\n",
    "por_20['Entregado'] = entregados20\n",
    "por_31['Entregado'] = entregados31\n",
    "por_40['Entregado'] = entregados40\n",
    "por_50['Entregado'] = entregados50\n",
    "por_100['Entregado'] = entregados100\n",
    "por_150['Entregado'] = entregados150\n",
    "por_225['Entregado'] = entregados225\n",
    "por_300['Entregado'] = entregados300\n",
    "por_450['Entregado'] = entregados450\n",
    "por_600['Entregado'] = entregados600\n",
    "por_1200['Entregado'] = entregados1200\n",
    "por_1800['Entregado'] = entregados1800\n",
    "por_3600['Entregado'] = entregados3600\n",
    "#AllExtra.sort_values('Archivo',inplace=True,ignore_index=True)"
   ]
  },
  {
   "cell_type": "markdown",
   "metadata": {
    "heading_collapsed": true
   },
   "source": [
    "#### 16 Segundos\n",
    "(Ahora está cubierto en el anterior, no es necesaior usar)"
   ]
  },
  {
   "cell_type": "code",
   "execution_count": null,
   "metadata": {
    "ExecuteTime": {
     "end_time": "2020-06-18T09:42:54.485114Z",
     "start_time": "2020-06-18T09:42:53.670898Z"
    },
    "hidden": true,
    "scrolled": true
   },
   "outputs": [],
   "source": [
    "files3 = [file for file in os.listdir('16seg')]\n",
    "df3=pd.DataFrame()\n",
    "All3 = pd.DataFrame()\n",
    "a2=len(files3)\n",
    "l3=np.full(int(a2/2),3600)\n",
    "largo3=np.cumsum(l3)\n",
    "for file in files3:\n",
    "    df3 = pd.read_table('16seg/'+file,sep=\"\\s+\", header=None)\n",
    "    df3['Archivo'] = file\n",
    "    All3 =pd.concat([All3, df3])"
   ]
  },
  {
   "cell_type": "code",
   "execution_count": null,
   "metadata": {
    "ExecuteTime": {
     "end_time": "2020-06-18T09:42:54.648502Z",
     "start_time": "2020-06-18T09:42:54.504698Z"
    },
    "hidden": true
   },
   "outputs": [],
   "source": [
    "#All2['Tipo']=All2['Archivo'].apply(lambda x: x.split('_')[3])\n",
    "All3=All3.loc[All3['Archivo'].str.contains('info')]\n",
    "All3.reset_index(drop=True,inplace=True)\n",
    "por_16 = All3.iloc[3599:3600]\n",
    "i=1\n",
    "while i <len(largo3):\n",
    "    por_16 = por_16.append(All3.iloc[largo3[i]-1:largo3[i]])\n",
    "    i=i+1\n",
    "por_16.reset_index(drop=True,inplace=True)\n",
    "por_16 = por_16.rename(columns={0: 'Entendido', 1: 'DvE'})"
   ]
  },
  {
   "cell_type": "code",
   "execution_count": null,
   "metadata": {
    "ExecuteTime": {
     "end_time": "2020-06-18T09:42:55.293589Z",
     "start_time": "2020-06-18T09:42:55.280591Z"
    },
    "hidden": true
   },
   "outputs": [],
   "source": [
    "intervalos2=[100,105,1080,10,120,150,20,210,240,270,300,330,390,40,420,450,480,50,510,540,570,60,660,70,720,80,810,85,900,95]\n",
    "entregados2=np.zeros(len(intervalos2))\n",
    "for i in range(len(intervalos2)):\n",
    "    entregados2[i] = calculador(intervalos2[i],16)\n",
    "por_16['Entregado'] = entregados2/3600\n",
    "por_16['Archivo'] = intervalos2\n",
    "por_16.rename(columns={'Archivo': 'Intervalo'},inplace=True)"
   ]
  },
  {
   "cell_type": "code",
   "execution_count": null,
   "metadata": {
    "ExecuteTime": {
     "end_time": "2020-06-18T09:44:57.414417Z",
     "start_time": "2020-06-18T09:44:57.398460Z"
    },
    "hidden": true
   },
   "outputs": [],
   "source": [
    "add = [C1800.Ent.iloc[-1],C1200.Ent.iloc[-1],C600.Ent.iloc[-1],C360.Ent.iloc[-1],\n",
    "       C180.Ent.iloc[-1],C90.Ent.iloc[-1],C30.Ent.iloc[-1]]\n",
    "dv =[C1800.DvE.iloc[-1],C1200.DvE.iloc[-1],C600.DvE.iloc[-1],C360.DvE.iloc[-1],\n",
    "       C180.DvE.iloc[-1],C90.DvE.iloc[-1],C30.DvE.iloc[-1]]\n",
    "inter = [1800,1200,600,360,180,90,30]\n",
    "entreg=np.zeros(len(inter))\n",
    "for i in range(len(inter)):\n",
    "    entreg[i] = calculador(inter[i],16)/3600\n",
    "d = {'Entendido':add, 'DvE':dv, 'Intervalo':inter, 'Entregado':entreg}\n",
    "#d = {'col1': [1, 2], 'col2': [3, 4]}\n",
    "agregar = pd.DataFrame(data=d)\n",
    "por_16=por_16.append(agregar,ignore_index=True)"
   ]
  },
  {
   "cell_type": "code",
   "execution_count": null,
   "metadata": {
    "ExecuteTime": {
     "end_time": "2020-06-18T09:44:59.216154Z",
     "start_time": "2020-06-18T09:44:59.213121Z"
    },
    "hidden": true
   },
   "outputs": [],
   "source": [
    "por_16['Efectividad'] = por_16['Entendido']*por_16['Entregado']"
   ]
  },
  {
   "cell_type": "code",
   "execution_count": null,
   "metadata": {
    "ExecuteTime": {
     "end_time": "2020-06-18T09:45:00.023411Z",
     "start_time": "2020-06-18T09:45:00.018425Z"
    },
    "hidden": true
   },
   "outputs": [],
   "source": [
    "por_16.sort_values('Intervalo',inplace=True,ignore_index=True)"
   ]
  },
  {
   "cell_type": "code",
   "execution_count": null,
   "metadata": {
    "ExecuteTime": {
     "end_time": "2020-06-18T22:26:44.039934Z",
     "start_time": "2020-06-18T22:26:44.034910Z"
    },
    "hidden": true
   },
   "outputs": [],
   "source": [
    "calculador(,4)"
   ]
  },
  {
   "cell_type": "markdown",
   "metadata": {
    "heading_collapsed": true
   },
   "source": [
    "### Estructuras de estudio"
   ]
  },
  {
   "cell_type": "code",
   "execution_count": null,
   "metadata": {
    "ExecuteTime": {
     "end_time": "2020-06-20T22:37:38.338923Z",
     "start_time": "2020-06-20T22:37:38.331941Z"
    },
    "hidden": true
   },
   "outputs": [],
   "source": [
    "I = np.array ([1800, 1200, 600, 360, 1800, 90, 30])\n",
    "\n",
    "EM = np.array([0, 240, 600, 1440, 1740, 2320, 2820, 3600])\n",
    "PM = np.array([0, 15, 20, 30, 25, 30, 20])\n",
    "\n",
    "EV = np.array([0, 214, 262, 380, 826, 1871, 2141, 2986, 3309, 3443, 3484, 3559, 3600])\n",
    "PV = np.array([0, 5, 7, 17, 9, 4, 24, 13, 7, 13, 8, 12])\n",
    "\n",
    "EH = np.array([0, 211, 464, 639, 2956, 3006, 3186, 3243, 3401,3600])\n",
    "PH = np.array([0, 21, 22, 22, 18, 7, 7, 6, 31])\n",
    "\n",
    "EA = np.array([0, 900, 2700, 3600])\n",
    "PA = np.array([0,16,16])"
   ]
  },
  {
   "cell_type": "code",
   "execution_count": null,
   "metadata": {
    "ExecuteTime": {
     "end_time": "2020-06-20T08:35:11.595051Z",
     "start_time": "2020-06-20T08:35:11.582032Z"
    },
    "hidden": true
   },
   "outputs": [],
   "source": [
    " \n",
    "\n",
    "estudio = [Magia.Ent.iloc[-1],Vogler.Ent.iloc[-1],Harmon.Ent.iloc[-1],Arist.Ent.iloc[-1]]\n",
    "dv_estu = [Magia.DvE.iloc[-1],Vogler.DvE.iloc[-1],Harmon.DvE.iloc[-1],Arist.DvE.iloc[-1]]\n",
    "Estruct = ['Magia','Vogler','Harmon','Aristóteles']\n",
    "emite= np.array([bits_entregados(EM,PM),bits_entregados(EV,PV),bits_entregados(EH,PH),bits_entregados(EA,PA)])/3600\n",
    "\n",
    "dd = {'Entendido':estudio, 'DvE':dv_estu, 'Estructura':Estruct, 'Entregado':emite}\n",
    "Df_estudio = pd.DataFrame(data=dd)"
   ]
  },
  {
   "cell_type": "markdown",
   "metadata": {
    "heading_collapsed": true
   },
   "source": [
    "## Ploteo Efectividad"
   ]
  },
  {
   "cell_type": "markdown",
   "metadata": {
    "heading_collapsed": true,
    "hidden": true
   },
   "source": [
    "### Efectiviad 16s"
   ]
  },
  {
   "cell_type": "code",
   "execution_count": null,
   "metadata": {
    "ExecuteTime": {
     "end_time": "2020-06-18T09:47:42.337844Z",
     "start_time": "2020-06-18T09:47:42.001775Z"
    },
    "hidden": true
   },
   "outputs": [],
   "source": [
    "plt.figure(figsize=(15,10))\n",
    "plt.scatter(por_16.Intervalo,por_16.Efectividad)\n",
    "plt.xticks(np.arange(0,1801,step=50),rotation=70)\n",
    "plt.yticks(np.arange(0,0.71,step=0.05))\n",
    "plt.xlabel('Intervalo de pausas',fontsize=17)\n",
    "plt.ylabel('Efectividad',fontsize=17)\n",
    "plt.title('Comparación de Efectividad. Pausas de 16 segundos',fontsize=23)\n",
    "plt.grid(alpha=0.1)\n",
    "plt.show()"
   ]
  },
  {
   "cell_type": "markdown",
   "metadata": {
    "hidden": true
   },
   "source": [
    "### Curvas de Efectividad"
   ]
  },
  {
   "cell_type": "markdown",
   "metadata": {
    "heading_collapsed": true,
    "hidden": true
   },
   "source": [
    "#### Creador de gifs"
   ]
  },
  {
   "cell_type": "code",
   "execution_count": null,
   "metadata": {
    "ExecuteTime": {
     "end_time": "2020-06-19T08:26:42.049530Z",
     "start_time": "2020-06-19T08:26:42.040554Z"
    },
    "code_folding": [
     0
    ],
    "hidden": true
   },
   "outputs": [],
   "source": [
    "#Función para guardar los fotogramas de la animación\n",
    "def plot_gif1(Ent1,Entr1,x,y,fname,Est1): \n",
    "    plt.figure(1,figsize=(9.5,9.5))\n",
    "    plt.xlabel('Entendimiento (Normalizado)',fontsize=17)\n",
    "    plt.ylabel('Información entregada durante la charla (normalizada)',fontsize=17)\n",
    "    plt.vlines(x=0.7,ymin=0,ymax=1,alpha=0.2)\n",
    "    plt.vlines(x=0.25,ymin=0,ymax=1,alpha=0.2)\n",
    "    plt.hlines(y=0.8,xmin=0,xmax=1,alpha=0.2)\n",
    "    plt.yticks(np.arange(0., 1.01, step=0.05),fontsize=13)\n",
    "    plt.xticks(np.arange(0., 1.01, step=0.05),fontsize=13,rotation=70)\n",
    "    plt.grid(alpha=0.2)\n",
    "    plt.title ('Comparación de estructuras',fontsize=20)\n",
    "    plt.scatter(Ent1,Entr1,label=Est1)\n",
    "    #plt.scatter(Ent2,Entr2,label=Est2)\n",
    "    #plt.scatter(Ent3,Entr3,label=Est3)\n",
    "    #plt.scatter(Ent4,Entr4,label=Est4)\n",
    "    #plt.scatter(Ent5,Entr5,label=Est5)\n",
    "    plt.plot(x,y,c='r')\n",
    "    plt.legend( prop={'size': 13})\n",
    "    plt.savefig(fname,dpi=150,bbox_inches='tight')"
   ]
  },
  {
   "cell_type": "code",
   "execution_count": null,
   "metadata": {
    "ExecuteTime": {
     "end_time": "2020-06-19T08:26:43.357208Z",
     "start_time": "2020-06-19T08:26:43.348256Z"
    },
    "code_folding": [
     0
    ],
    "hidden": true
   },
   "outputs": [],
   "source": [
    "#Función para guardar los fotogramas de la animación 2\n",
    "def plot_gif2(Ent1,Entr1,Ent2,Entr2,x,y,fname,Est1,Est2): \n",
    "    plt.figure(1,figsize=(9.5,9.5))\n",
    "    plt.xlabel('Entendimiento (Normalizado)',fontsize=17)\n",
    "    plt.ylabel('Información entregada durante la charla (normalizada)',fontsize=17)\n",
    "    plt.vlines(x=0.7,ymin=0,ymax=1,alpha=0.2)\n",
    "    plt.vlines(x=0.25,ymin=0,ymax=1,alpha=0.2)\n",
    "    plt.hlines(y=0.8,xmin=0,xmax=1,alpha=0.2)\n",
    "    plt.yticks(np.arange(0., 1.01, step=0.05),fontsize=13)\n",
    "    plt.xticks(np.arange(0., 1.01, step=0.05),fontsize=13,rotation=70)\n",
    "    plt.grid(alpha=0.2)\n",
    "    plt.title ('Comparación de estructuras',fontsize=20)\n",
    "    plt.scatter(Ent1,Entr1,label=Est1)\n",
    "    plt.scatter(Ent2,Entr2,label=Est2)\n",
    "    #plt.scatter(Ent3,Entr3,label=Est3)\n",
    "    #plt.scatter(Ent4,Entr4,label=Est4)\n",
    "    #plt.scatter(Ent5,Entr5,label=Est5)\n",
    "    plt.plot(x,y,c='r')\n",
    "    plt.legend( prop={'size': 13})\n",
    "    plt.savefig(fname,dpi=150,bbox_inches='tight')"
   ]
  },
  {
   "cell_type": "code",
   "execution_count": null,
   "metadata": {
    "ExecuteTime": {
     "end_time": "2020-06-19T08:26:44.136459Z",
     "start_time": "2020-06-19T08:26:44.128521Z"
    },
    "code_folding": [
     1
    ],
    "hidden": true
   },
   "outputs": [],
   "source": [
    "#Función para guardar los fotogramas de la animación 3\n",
    "def plot_gif3(Ent1,Entr1,Ent2,Entr2,Ent3,Entr3,x,y,fname,Est1,Est2,Est3): \n",
    "    plt.figure(1,figsize=(9.5,9.5))\n",
    "    plt.xlabel('Entendimiento (Normalizado)',fontsize=17)\n",
    "    plt.ylabel('Información entregada durante la charla (normalizada)',fontsize=17)\n",
    "    plt.vlines(x=0.7,ymin=0,ymax=1,alpha=0.2)\n",
    "    plt.vlines(x=0.25,ymin=0,ymax=1,alpha=0.2)\n",
    "    plt.hlines(y=0.8,xmin=0,xmax=1,alpha=0.2)\n",
    "    plt.yticks(np.arange(0., 1.01, step=0.05),fontsize=13)\n",
    "    plt.xticks(np.arange(0., 1.01, step=0.05),fontsize=13,rotation=70)\n",
    "    plt.grid(alpha=0.2)\n",
    "    plt.title ('Comparación de estructuras',fontsize=20)\n",
    "    plt.scatter(Ent1,Entr1,label=Est1)\n",
    "    plt.scatter(Ent2,Entr2,label=Est2)\n",
    "    plt.scatter(Ent3,Entr3,label=Est3)\n",
    "    #plt.scatter(Ent4,Entr4,label=Est4)\n",
    "    #plt.scatter(Ent5,Entr5,label=Est5)\n",
    "    plt.plot(x,y,c='r')\n",
    "    plt.legend( prop={'size': 13})\n",
    "    plt.savefig(fname,dpi=150,bbox_inches='tight')"
   ]
  },
  {
   "cell_type": "code",
   "execution_count": null,
   "metadata": {
    "ExecuteTime": {
     "end_time": "2020-06-19T08:26:45.008210Z",
     "start_time": "2020-06-19T08:26:44.991265Z"
    },
    "code_folding": [
     1
    ],
    "hidden": true
   },
   "outputs": [],
   "source": [
    "#Función para guardar los fotogramas de la animación 4\n",
    "def plot_gif4(Ent1,Entr1,Ent2,Entr2,Ent3,Entr3,Ent4,Entr4,x,y,fname,Est1,Est2,Est3,Est4): \n",
    "    plt.figure(1,figsize=(9.5,9.5))\n",
    "    plt.xlabel('Entendimiento (Normalizado)',fontsize=17)\n",
    "    plt.ylabel('Información entregada durante la charla (normalizada)',fontsize=17)\n",
    "    plt.vlines(x=0.7,ymin=0,ymax=1,alpha=0.2)\n",
    "    plt.vlines(x=0.25,ymin=0,ymax=1,alpha=0.2)\n",
    "    plt.hlines(y=0.8,xmin=0,xmax=1,alpha=0.2)\n",
    "    plt.yticks(np.arange(0., 1.01, step=0.05),fontsize=13)\n",
    "    plt.xticks(np.arange(0., 1.01, step=0.05),fontsize=13,rotation=70)\n",
    "    plt.grid(alpha=0.2)\n",
    "    plt.title ('Comparación de estructuras',fontsize=20)\n",
    "    plt.scatter(Ent1,Entr1,label=Est1)\n",
    "    plt.scatter(Ent2,Entr2,label=Est2)\n",
    "    plt.scatter(Ent3,Entr3,label=Est3)\n",
    "    plt.scatter(Ent4,Entr4,label=Est4)\n",
    "    #plt.scatter(Ent5,Entr5,label=Est5)\n",
    "    plt.plot(x,y,c='r')\n",
    "    plt.legend( prop={'size': 13})\n",
    "    plt.savefig(fname,dpi=150,bbox_inches='tight')"
   ]
  },
  {
   "cell_type": "code",
   "execution_count": null,
   "metadata": {
    "ExecuteTime": {
     "end_time": "2020-06-19T08:26:45.784798Z",
     "start_time": "2020-06-19T08:26:45.774761Z"
    },
    "code_folding": [
     1
    ],
    "hidden": true
   },
   "outputs": [],
   "source": [
    "#Función para guardar los fotogramas de la animación 5\n",
    "def plot_gif5(Ent1,Entr1,Ent2,Entr2,Ent3,Entr3,Ent4,Entr4,Ent5,Entr5,x,y,fname,Est1,Est2,Est3,Est4,Est5): \n",
    "    plt.figure(1,figsize=(9.5,9.5))\n",
    "    plt.xlabel('Entendimiento (Normalizado)',fontsize=17)\n",
    "    plt.ylabel('Información entregada durante la charla (normalizada)',fontsize=17)\n",
    "    plt.vlines(x=0.7,ymin=0,ymax=1,alpha=0.2)\n",
    "    plt.vlines(x=0.25,ymin=0,ymax=1,alpha=0.2)\n",
    "    plt.hlines(y=0.8,xmin=0,xmax=1,alpha=0.2)\n",
    "    plt.yticks(np.arange(0., 1.01, step=0.05),fontsize=13)\n",
    "    plt.xticks(np.arange(0., 1.01, step=0.05),fontsize=13,rotation=70)\n",
    "    plt.grid(alpha=0.2)\n",
    "    plt.title ('Comparación de estructuras',fontsize=20)\n",
    "    plt.scatter(Ent1,Entr1,label=Est1)\n",
    "    plt.scatter(Ent2,Entr2,label=Est2)\n",
    "    plt.scatter(Ent3,Entr3,label=Est3)\n",
    "    plt.scatter(Ent4,Entr4,label=Est4)\n",
    "    plt.scatter(Ent5,Entr5,label=Est5)\n",
    "    plt.plot(x,y,c='r')\n",
    "    plt.legend( prop={'size': 13})\n",
    "    plt.savefig(fname,dpi=150,bbox_inches='tight')"
   ]
  },
  {
   "cell_type": "code",
   "execution_count": null,
   "metadata": {
    "ExecuteTime": {
     "end_time": "2020-06-19T08:26:46.608324Z",
     "start_time": "2020-06-19T08:26:46.604335Z"
    },
    "hidden": true
   },
   "outputs": [],
   "source": [
    "equis= np.arange(0,1.1,step=0.1)"
   ]
  },
  {
   "cell_type": "code",
   "execution_count": null,
   "metadata": {
    "ExecuteTime": {
     "end_time": "2020-06-19T08:43:37.538866Z",
     "start_time": "2020-06-19T08:36:24.757205Z"
    },
    "hidden": true
   },
   "outputs": [],
   "source": [
    "#Ciclo for para crear los archivos png que hacen la animación\n",
    "#i=3261\n",
    "#while i< (720*5):\n",
    "for i in range(len(por_16)):\n",
    "    #Create the filename automatically\n",
    "    fname = 'gif3/Efectividad'+str(i).zfill(5)+'.png'\n",
    "    if i<720:\n",
    "        plot_gif1(por_16.iloc[0:i,1],por_16.iloc[0:i,2],equis,equis,fname,'16s')\n",
    "#        i=i+1\n",
    "        plt.close()\n",
    "        gc.collect()\n",
    "    elif i>=720 & i<720*2:\n",
    "        plot_gif2(por_16.Ent,por_16.Entregado,por_31.iloc[0:i,1],por_31.iloc[0:i,2],equis,equis,fname,'16s','31s')\n",
    "        i=i+1\n",
    "        plt.close()\n",
    "        gc.collect()\n",
    "    elif i>=720*2 & i<720*3:\n",
    "        plot_gif2(por_16.Ent,por_16.Entregado,por_31.Ent,por_31.Entregado,\n",
    "                  por_50.iloc[0:i,1],por_50.iloc[0:i,2],equis,equis,fname,'16s','31s','50s')\n",
    "        i=i+1\n",
    "        plt.close()\n",
    "        gc.collect()\n",
    "    elif i>=720*3 & i < 720*4:\n",
    "        plot_gif2(por_16.Ent,por_16.Entregado,por_31.Ent,por_31.Entregado,por_50.Ent,por_50.Entregado,\n",
    "                  por_100.iloc[0:i,1],por_100.iloc[0:i,2],equis,equis,fname,'16s','31s','50s','100s')\n",
    "        i=i+1\n",
    "        plt.close()\n",
    "        gc.collect()\n",
    "    elif i>=720*4 & i<720*5:\n",
    "        plot_gif2(por_16.Ent,por_16.Entregado,por_31.Ent,por_31.Entregado,por_50.Ent,por_50.Entregado,\n",
    "                  por_100.Ent,por_100.Entregado,\n",
    "                  por_150.iloc[0:i,1],por_150.iloc[0:i,2],equis,equis,fname,'16s','31s','50s','100s','150s')\n",
    "        i=i+1\n",
    "        plt.close()\n",
    "        gc.collect()"
   ]
  },
  {
   "cell_type": "code",
   "execution_count": null,
   "metadata": {
    "ExecuteTime": {
     "end_time": "2020-06-19T08:34:23.817576Z",
     "start_time": "2020-06-19T08:33:59.478846Z"
    },
    "hidden": true
   },
   "outputs": [],
   "source": [
    "#name of the animation\n",
    "gif_name = 'animacion_16_a_150'\n",
    "\n",
    "#frames per second\n",
    "fps = 24\n",
    "\n",
    "#Create a sorted list with all the png files in our directory\n",
    "file_list = sorted(glob.glob('gif3/*.png')) \n",
    "\n",
    "#Create a clip instance using ImageSequenceClip included in moviepy\n",
    "clip = mpy.ImageSequenceClip(file_list, fps=fps)\n",
    "\n",
    "#No we can write the animation as a a gif\n",
    "clip.write_videofile(gif_name+'.mp4')"
   ]
  },
  {
   "cell_type": "markdown",
   "metadata": {
    "ExecuteTime": {
     "end_time": "2020-06-19T07:00:45.126997Z",
     "start_time": "2020-06-19T07:00:45.120983Z"
    },
    "heading_collapsed": true,
    "hidden": true
   },
   "source": [
    "#### Graficos Efectividad"
   ]
  },
  {
   "cell_type": "code",
   "execution_count": null,
   "metadata": {
    "ExecuteTime": {
     "end_time": "2020-06-19T22:20:37.595904Z",
     "start_time": "2020-06-19T22:20:36.359914Z"
    },
    "code_folding": [],
    "hidden": true,
    "scrolled": false
   },
   "outputs": [],
   "source": [
    "#El nuevo\n",
    "colors=np.zeros(43)\n",
    "colors[39:44]=1\n",
    "plt.figure(figsize=(15,15))\n",
    "\n",
    "#plt.scatter(por_segundo.Entendido , por_segundo.Entregado,s=40,label='1s') #Pausas de 1 segundo\n",
    "#plt.scatter(por_16.Ent      , por_16.Entregado, s=40,c='g',label='16s')\n",
    "#plt.plot   (por_16.Ent      , por_16.Entregado,c='gray')\n",
    "plt.plot(np.arange(0,1.1,step=0.1),np.arange(0,1.1,step=0.1),c='r')\n",
    "plt.vlines(x=0.25,ymin=0, ymax=1,alpha=0.3)\n",
    "plt.hlines(y=0.85, xmin=0, xmax=1,alpha=0.3)\n",
    "plt.vlines(x=0.70,ymin=0, ymax=1,alpha=0.3)\n",
    "#plt.scatter(Df_estudio.Entendido  , Df_estudio.Entregado,s=60,c='y')\n",
    "plt.scatter(por_1.Ent      , por_1.Entregado,label='1s')\n",
    "#plt.scatter(por_4.Ent      , por_4.Entregado,label='4s')\n",
    "#plt.scatter(por_8.Ent      , por_8.Entregado,label='8s')\n",
    "#plt.scatter(por_10.Ent      , por_10.Entregado,label='10s')\n",
    "plt.scatter(por_16.Ent      , por_16.Entregado,label='16s')\n",
    "#plt.scatter(por_20.Ent      , por_20.Entregado,label='20s')\n",
    "#plt.scatter(por_31.Ent      , por_31.Entregado,label='31s')\n",
    "#plt.scatter(por_40.Ent      , por_40.Entregado,label='40s')\n",
    "plt.scatter(por_50.Ent      , por_50.Entregado,label='50s')\n",
    "plt.scatter(por_100.Ent      , por_100.Entregado,label='100s')\n",
    "#plt.scatter(por_150.Ent      , por_150.Entregado,label='150s')\n",
    "#plt.scatter(por_225.Ent      , por_225.Entregado,label='225s')\n",
    "#plt.scatter(por_300.Ent , por_300.Entregado,label='300s')\n",
    "#plt.scatter(por_450.Ent , por_450.Entregado,label='450s')\n",
    "#plt.scatter(por_600.Ent , por_600.Entregado,label='600s')\n",
    "#plt.plot(por_600.Ent,por_600.Entregado)\n",
    "#plt.scatter(por_1200.Ent , por_1200.Entregado,label='1200s')\n",
    "#plt.scatter(por_1800.Ent , por_1800.Entregado,label='1800s')\n",
    "plt.scatter(por_3600.Ent , por_3600.Entregado,label='3600s')\n",
    "\n",
    "\n",
    "\n",
    "#plt.annotate('C30s', # this is the text\n",
    "#                 (0.63,0.65), # this is the point to label\n",
    "#                 textcoords=\"offset points\", # how to position the text\n",
    "#                 xytext=(0,11), # distance from text to points (x,y)\n",
    "#                 ha='center')\n",
    "#plt.annotate('C90s', (0.8,0.85),textcoords=\"offset points\", xytext=(0,10),ha='center')\n",
    "#plt.annotate('C180s', (0.63,0.92),textcoords=\"offset points\", xytext=(0,10),ha='center')\n",
    "#plt.annotate('C3600s', (0.48,0.96),textcoords=\"offset points\", xytext=(0,10),ha='center')\n",
    "#plt.annotate('C600s', (0.28,0.97),textcoords=\"offset points\", xytext=(0,15),ha='center')\n",
    "#plt.annotate('C1200s', (0.01,0.99),textcoords=\"offset points\", xytext=(0,-13),ha='center')\n",
    "#plt.annotate('C1800s', (0.00,0.99),textcoords=\"offset points\", xytext=(0,12),ha='center')\n",
    "plt.annotate('Magia', (0.30,0.96),textcoords=\"offset points\", xytext=(20,-11),ha='center')\n",
    "plt.annotate('Vogler', (0.28,0.96),textcoords=\"offset points\", xytext=(-15,-5),ha='center')\n",
    "plt.annotate('Harmon', (0.12,0.96),textcoords=\"offset points\", xytext=(0,-12),ha='center')\n",
    "plt.annotate('Aristóteles', (0.02,0.99),textcoords=\"offset points\", xytext=(0,10),ha='center')\n",
    "plt.xlabel('Entendimiento (Normalizado)',fontsize=17)\n",
    "plt.ylabel('Información entregada durante la charla (normalizada)',fontsize=17)\n",
    "##plt.axis([0, 3600, 0, 1])\n",
    "plt.yticks(np.arange(0., 1.01, step=0.05),fontsize=13)\n",
    "plt.xticks(np.arange(0., 1.01, step=0.05),fontsize=13,rotation=70)\n",
    "plt.grid(alpha=0.3)\n",
    "plt.title ('Comparación de efectividad de estructuras',fontsize=20)\n",
    "plt.legend(  prop={'size': 13})\n",
    "#plt.savefig('Images/Entendimiento_Magia_Vogler_DV_100.png', dpi=300,bbox_inches=\"tight\")\n",
    "plt.show()"
   ]
  },
  {
   "cell_type": "markdown",
   "metadata": {},
   "source": [
    "## Funciones de Graficación"
   ]
  },
  {
   "cell_type": "code",
   "execution_count": 6,
   "metadata": {
    "ExecuteTime": {
     "end_time": "2020-06-20T23:21:29.954982Z",
     "start_time": "2020-06-20T23:21:29.932044Z"
    },
    "code_folding": [
     20,
     39
    ]
   },
   "outputs": [],
   "source": [
    "#Atención (Datos, Estructura, Duración, Guardado, Tamaño Imagen X, Tamaño Imagen Y)\n",
    "def graf_aten(data,estructura,save,a,b):\n",
    "    tmax=len(data)\n",
    "    t=np.arange(1,tmax+1)\n",
    "    plt.figure(figsize=(a,b))\n",
    "    plt.plot(t,data.At,label='Atención Promedio',color='r')\n",
    "    plt.fill_between(t, data.At - data.Dv, data.At + data.Dv, color='C9', alpha=0.3)\n",
    "    plt.ylabel('Atención',fontsize=20)\n",
    "    plt.xlabel('Tiempo (s)',fontsize=20)\n",
    "    plt.xticks(np.arange(0, tmax+1, step=150),fontsize=15,rotation=70)\n",
    "    plt.yticks(fontsize=15)\n",
    "    plt.title ('Atención. T = '+str(tmax)+'s. Estructura: '+estructura,fontsize=30)\n",
    "    #plt.legend(prop={'size': 20})\n",
    "    plt.grid(alpha=0.3)\n",
    "    if save == True:\n",
    "        plt.savefig('Images/Atencion_'+str(tmax)+'_'+estructura+'_.png', dpi=150,bbox_inches=\"tight\")\n",
    "        plt.close()\n",
    "        gc.collect\n",
    "    else:\n",
    "        plt.tight_layout()\n",
    "        plt.show()\n",
    "#def graf_aten_2700(data,estructura,save):\n",
    "    t=np.arange(1,2701)\n",
    "    plt.figure(figsize=(a,b))\n",
    "    plt.plot(t,data['At'],label='Atención Promedio',color='r')\n",
    "    plt.fill_between(t, data.At-data.Dv, data.At+data.Dv, color='C9', alpha=0.3)\n",
    "    plt.ylabel('Atención',fontsize=20)\n",
    "    plt.xlabel('Tiempo (s)',fontsize=20)\n",
    "    plt.xticks(np.arange(0, 2701, step=150),fontsize=15,rotation=70)\n",
    "    plt.yticks(fontsize=15)\n",
    "    plt.title ('Atención. T = 2700s. Estructura: '+estructura,fontsize=30)\n",
    "    #plt.legend(prop={'size': 20})\n",
    "    plt.grid(alpha=0.3)\n",
    "    if save == True:\n",
    "        plt.savefig('Images/Atencion_2700'+estructura+'_.png', dpi=150,bbox_inches=\"tight\")\n",
    "        plt.close()\n",
    "        gc.collect\n",
    "    else:\n",
    "        plt.tight_layout()\n",
    "        plt.show()\n",
    "#def graf_aten_3600(data,estructura,save):\n",
    "    t=np.arange(1,3601)\n",
    "    plt.figure(figsize=(a,b))\n",
    "    plt.plot(t,data['At'],label='Atención Promedio',color='r')\n",
    "    plt.fill_between(t, data.At-data.Dv, data.At+data.Dv, color='C9', alpha=0.3)\n",
    "    plt.ylabel('Atención',fontsize=20)\n",
    "    plt.xlabel('Tiempo (s)',fontsize=20)\n",
    "    plt.xticks(np.arange(0, 3601, step=150),fontsize=15,rotation=70)\n",
    "    plt.yticks(fontsize=15)\n",
    "    plt.title ('Atención. T = 3600s. Estructura: '+estructura,fontsize=30)\n",
    "    #plt.legend(prop={'size': 20})\n",
    "    plt.grid(alpha=0.3)\n",
    "    if save == True:\n",
    "        plt.savefig('Images/Atencion_3600'+estructura+'_.png', dpi=150,bbox_inches=\"tight\")\n",
    "        plt.close()\n",
    "        gc.collect\n",
    "    else:\n",
    "        plt.tight_layout()\n",
    "        plt.show()"
   ]
  },
  {
   "cell_type": "code",
   "execution_count": 23,
   "metadata": {
    "ExecuteTime": {
     "end_time": "2020-06-20T23:30:47.318003Z",
     "start_time": "2020-06-20T23:30:47.299055Z"
    },
    "code_folding": [
     20,
     39
    ]
   },
   "outputs": [],
   "source": [
    "#Entendimiento (Datos, Estructura, Duración, Guardado, Tamaño Imagen X, Tamaño Imagen Y)\n",
    "def graf_enten(data,estructura,save,a,b):\n",
    "    tmax=len(data)\n",
    "    print(tmax)\n",
    "    t=np.arange(1,tmax+1)\n",
    "    print(t)\n",
    "    plt.figure(figsize=(a,b))\n",
    "    plt.plot(t,data.Ent,label='Entendimiento Medio',color='r')\n",
    "    #plt.fill_between(t, data.Ent-data.DvE, data.Ent+data.DvE, color='C9', alpha=0.3)\n",
    "    #plt.hlines(y = data.Ent.iloc[-1], xmin=0, xmax=tmax+1,alpha=0.2)\n",
    "    #plt.ylabel('Entendimiento',fontsize=20)\n",
    "    #plt.xlabel('Tiempo (s)',fontsize=20)\n",
    "    #plt.xticks(np.arange(0, tmax+1, step=150),fontsize=15,rotation=70)\n",
    "    #plt.yticks(np.arange(0, 1, step=0.05),fontsize=15)\n",
    "    #plt.title ('Entendimiento. T = '+str(tmax)+'s. Estructura: '+estructura,fontsize=20)\n",
    "    #plt.legend(loc = 'upper left',prop={'size': 20})\n",
    "    #plt.grid(alpha=0.2)\n",
    "    if save == True:\n",
    "        plt.savefig('Images/Entendimiento_'+str(tmax)+'_'+estructura+'_.png', dpi=150,bbox_inches=\"tight\")\n",
    "        plt.close()\n",
    "        gc.collect()\n",
    "    else:\n",
    "        plt.tight_layout()\n",
    "        plt.show()\n",
    "#def graf_enten_2700(data,estructura,save,a,b):\n",
    "    t=np.arange(1,2701)\n",
    "    plt.figure(figsize=(a,b))\n",
    "    plt.plot(t,data.Ent,label='Entendimiento Medio',color='r')\n",
    "    plt.fill_between(t, data.Ent-data.DvE, data.Ent+data.DvE, color='C9', alpha=0.3)\n",
    "    plt.ylabel('Entendimiento',fontsize=20)\n",
    "    plt.xlabel('Tiempo (s)',fontsize=20)\n",
    "    plt.xticks(np.arange(0, 2701, step=150),fontsize=15,rotation=70)\n",
    "    plt.yticks(np.arange(0, 1, step=0.05),fontsize=15)\n",
    "    plt.title ('Entendimiento. T = 2700s. Estructura: '+estructura,fontsize=20)\n",
    "    #plt.legend(loc = 'upper left',prop={'size': 20})\n",
    "    plt.grid(alpha=0.3)\n",
    "    if save == True:\n",
    "        plt.savefig('Images/Entendimiento_2700_'+estructura+'_.png', dpi=150,bbox_inches=\"tight\")\n",
    "        plt.close()\n",
    "        gc.collect()\n",
    "    else:\n",
    "        plt.tight_layout()\n",
    "        plt.show()\n",
    "#def graf_enten_3600(data,estructura,save,a,b):\n",
    "    t=np.arange(1,3601)\n",
    "    plt.figure(figsize=(a,b))\n",
    "    plt.plot(t,data.Ent,label='Entendimiento Medio',color='r')\n",
    "    plt.fill_between(t, data.Ent-data.DvE, data.Ent+data.DvE, color='C9', alpha=0.3)\n",
    "    plt.ylabel('Entendimiento',fontsize=20)\n",
    "    plt.xlabel('Tiempo (s)',fontsize=20)\n",
    "    plt.xticks(np.arange(0, 3601, step=150),fontsize=15,rotation=70)\n",
    "    plt.yticks(np.arange(0, 1, step=0.05),fontsize=15)\n",
    "    plt.title ('Entendimiento. T = 3600s. Estructura: '+estructura,fontsize=20)\n",
    "    #plt.legend(loc = 'upper left',prop={'size': 20})\n",
    "    plt.grid(alpha=0.3)\n",
    "    if save == True:\n",
    "        plt.savefig('Images/Entendimiento_3600_'+estructura+'_.png', dpi=150,bbox_inches=\"tight\")\n",
    "        plt.close()\n",
    "        gc.collect()\n",
    "    else:\n",
    "        plt.tight_layout()\n",
    "        plt.show()"
   ]
  },
  {
   "cell_type": "code",
   "execution_count": null,
   "metadata": {
    "ExecuteTime": {
     "end_time": "2020-06-20T23:05:24.459753Z",
     "start_time": "2020-06-20T23:05:24.447823Z"
    },
    "code_folding": [
     1
    ]
   },
   "outputs": [],
   "source": [
    "#Atención y Entendimiento (Datos, Estructura, Duración, Guardado) Tamaño Imagen fijo en 20,12\n",
    "def graf_doble(data,estructura,tiempo,save):\n",
    "    t=np.arange(1,tiempo+1)\n",
    "    plt.figure(figsize=(20,12))    \n",
    "    plt.subplot(211)\n",
    "    plt.plot(t,data.At,label='Atención Media',color='r')\n",
    "    plt.fill_between(t, data.At-data.Dv, data.At+data.Dv, color='C1', alpha=0.3)\n",
    "    plt.ylabel('Atención',fontsize=20)\n",
    "    plt.xlabel('Tiempo (s)',fontsize=20)\n",
    "    plt.xticks(np.arange(0, tiempo+1, step=300),fontsize=15,rotation=70)\n",
    "    plt.yticks(fontsize=15)\n",
    "    plt.title ('Atención. T = '+str(tiempo)+'s. Estructura: '+estructura,fontsize=30)\n",
    "    #plt.legend(prop={'size': 20})\n",
    "    plt.grid(alpha=0.3)\n",
    "    plt.subplot(212)\n",
    "    plt.plot(t,data.Ent,label='Entendimiento Medio',color='r')\n",
    "    plt.fill_between(t, data.Ent-data.DvE, data.Ent+data.DvE, color='C9', alpha=0.3)\n",
    "    plt.ylabel('Entendimiento',fontsize=20)\n",
    "    plt.xlabel('Tiempo (s)',fontsize=20)\n",
    "    plt.xticks(np.arange(0, tiempo+1, step=300),fontsize=15,rotation=70)\n",
    "    plt.yticks(np.arange(0, 1, step=0.05),fontsize=15)\n",
    "    plt.title ('Entendimiento. T = '+str(tiempo)+'s. Estructura: '+estructura,fontsize=20)\n",
    "    #plt.legend(loc = 'upper left',prop={'size': 20})\n",
    "    plt.grid(alpha=0.3)\n",
    "    plt.subplots_adjust(left=None, bottom=None, right=None, top=None, wspace=None, hspace=0.3)\n",
    "    if save == True:\n",
    "        plt.savefig('Images/Atencion_y_Entendimiento_'+str(tiempo)+'_'+estructura+'_.png', dpi=150,bbox_inches=\"tight\")\n",
    "        plt.close()\n",
    "        gc.collect()\n",
    "    else:\n",
    "        plt.tight_layout()\n",
    "        plt.show()"
   ]
  },
  {
   "cell_type": "markdown",
   "metadata": {},
   "source": [
    "## Graficamos Atencion"
   ]
  },
  {
   "cell_type": "code",
   "execution_count": 26,
   "metadata": {
    "ExecuteTime": {
     "end_time": "2020-06-20T23:34:16.468856Z",
     "start_time": "2020-06-20T23:34:16.156653Z"
    }
   },
   "outputs": [
    {
     "name": "stdout",
     "output_type": "stream",
     "text": [
      "3600\n",
      "[   1    2    3 ... 3598 3599 3600]\n"
     ]
    },
    {
     "data": {
      "image/png": "[encoded data removed]",
      "text/plain": [
       "<Figure size 1296x576 with 1 Axes>"
      ]
     },
     "metadata": {
      "needs_background": "light"
     },
     "output_type": "display_data"
    },
    {
     "ename": "ValueError",
     "evalue": "x and y must have same first dimension, but have shapes (2700,) and (3600,)",
     "output_type": "error",
     "traceback": [
      "\u001b[1;31m---------------------------------------------------------------------------\u001b[0m",
      "\u001b[1;31mValueError\u001b[0m                                Traceback (most recent call last)",
      "\u001b[1;32m<ipython-input-26-2133f34b3c6b>\u001b[0m in \u001b[0;36m<module>\u001b[1;34m\u001b[0m\n\u001b[1;32m----> 1\u001b[1;33m \u001b[0mgraf_enten\u001b[0m\u001b[1;33m(\u001b[0m\u001b[0mMagia\u001b[0m\u001b[1;33m,\u001b[0m\u001b[1;34m'Magia'\u001b[0m\u001b[1;33m,\u001b[0m\u001b[1;32mFalse\u001b[0m\u001b[1;33m,\u001b[0m\u001b[1;36m18\u001b[0m\u001b[1;33m,\u001b[0m\u001b[1;36m8\u001b[0m\u001b[1;33m)\u001b[0m\u001b[1;33m\u001b[0m\u001b[1;33m\u001b[0m\u001b[0m\n\u001b[0m",
      "\u001b[1;32m<ipython-input-23-75bac24c7a31>\u001b[0m in \u001b[0;36mgraf_enten\u001b[1;34m(data, estructura, save, a, b)\u001b[0m\n\u001b[0;32m     26\u001b[0m     \u001b[0mt\u001b[0m\u001b[1;33m=\u001b[0m\u001b[0mnp\u001b[0m\u001b[1;33m.\u001b[0m\u001b[0marange\u001b[0m\u001b[1;33m(\u001b[0m\u001b[1;36m1\u001b[0m\u001b[1;33m,\u001b[0m\u001b[1;36m2701\u001b[0m\u001b[1;33m)\u001b[0m\u001b[1;33m\u001b[0m\u001b[1;33m\u001b[0m\u001b[0m\n\u001b[0;32m     27\u001b[0m     \u001b[0mplt\u001b[0m\u001b[1;33m.\u001b[0m\u001b[0mfigure\u001b[0m\u001b[1;33m(\u001b[0m\u001b[0mfigsize\u001b[0m\u001b[1;33m=\u001b[0m\u001b[1;33m(\u001b[0m\u001b[0ma\u001b[0m\u001b[1;33m,\u001b[0m\u001b[0mb\u001b[0m\u001b[1;33m)\u001b[0m\u001b[1;33m)\u001b[0m\u001b[1;33m\u001b[0m\u001b[1;33m\u001b[0m\u001b[0m\n\u001b[1;32m---> 28\u001b[1;33m     \u001b[0mplt\u001b[0m\u001b[1;33m.\u001b[0m\u001b[0mplot\u001b[0m\u001b[1;33m(\u001b[0m\u001b[0mt\u001b[0m\u001b[1;33m,\u001b[0m\u001b[0mdata\u001b[0m\u001b[1;33m.\u001b[0m\u001b[0mEnt\u001b[0m\u001b[1;33m,\u001b[0m\u001b[0mlabel\u001b[0m\u001b[1;33m=\u001b[0m\u001b[1;34m'Entendimiento Medio'\u001b[0m\u001b[1;33m,\u001b[0m\u001b[0mcolor\u001b[0m\u001b[1;33m=\u001b[0m\u001b[1;34m'r'\u001b[0m\u001b[1;33m)\u001b[0m\u001b[1;33m\u001b[0m\u001b[1;33m\u001b[0m\u001b[0m\n\u001b[0m\u001b[0;32m     29\u001b[0m     \u001b[0mplt\u001b[0m\u001b[1;33m.\u001b[0m\u001b[0mfill_between\u001b[0m\u001b[1;33m(\u001b[0m\u001b[0mt\u001b[0m\u001b[1;33m,\u001b[0m \u001b[0mdata\u001b[0m\u001b[1;33m.\u001b[0m\u001b[0mEnt\u001b[0m\u001b[1;33m-\u001b[0m\u001b[0mdata\u001b[0m\u001b[1;33m.\u001b[0m\u001b[0mDvE\u001b[0m\u001b[1;33m,\u001b[0m \u001b[0mdata\u001b[0m\u001b[1;33m.\u001b[0m\u001b[0mEnt\u001b[0m\u001b[1;33m+\u001b[0m\u001b[0mdata\u001b[0m\u001b[1;33m.\u001b[0m\u001b[0mDvE\u001b[0m\u001b[1;33m,\u001b[0m \u001b[0mcolor\u001b[0m\u001b[1;33m=\u001b[0m\u001b[1;34m'C9'\u001b[0m\u001b[1;33m,\u001b[0m \u001b[0malpha\u001b[0m\u001b[1;33m=\u001b[0m\u001b[1;36m0.3\u001b[0m\u001b[1;33m)\u001b[0m\u001b[1;33m\u001b[0m\u001b[1;33m\u001b[0m\u001b[0m\n\u001b[0;32m     30\u001b[0m     \u001b[0mplt\u001b[0m\u001b[1;33m.\u001b[0m\u001b[0mylabel\u001b[0m\u001b[1;33m(\u001b[0m\u001b[1;34m'Entendimiento'\u001b[0m\u001b[1;33m,\u001b[0m\u001b[0mfontsize\u001b[0m\u001b[1;33m=\u001b[0m\u001b[1;36m20\u001b[0m\u001b[1;33m)\u001b[0m\u001b[1;33m\u001b[0m\u001b[1;33m\u001b[0m\u001b[0m\n",
      "\u001b[1;32mc:\\users\\jose\\appdata\\local\\programs\\python\\python38-32\\lib\\site-packages\\matplotlib\\pyplot.py\u001b[0m in \u001b[0;36mplot\u001b[1;34m(scalex, scaley, data, *args, **kwargs)\u001b[0m\n\u001b[0;32m   2759\u001b[0m \u001b[1;33m@\u001b[0m\u001b[0mdocstring\u001b[0m\u001b[1;33m.\u001b[0m\u001b[0mcopy\u001b[0m\u001b[1;33m(\u001b[0m\u001b[0mAxes\u001b[0m\u001b[1;33m.\u001b[0m\u001b[0mplot\u001b[0m\u001b[1;33m)\u001b[0m\u001b[1;33m\u001b[0m\u001b[1;33m\u001b[0m\u001b[0m\n\u001b[0;32m   2760\u001b[0m \u001b[1;32mdef\u001b[0m \u001b[0mplot\u001b[0m\u001b[1;33m(\u001b[0m\u001b[1;33m*\u001b[0m\u001b[0margs\u001b[0m\u001b[1;33m,\u001b[0m \u001b[0mscalex\u001b[0m\u001b[1;33m=\u001b[0m\u001b[1;32mTrue\u001b[0m\u001b[1;33m,\u001b[0m \u001b[0mscaley\u001b[0m\u001b[1;33m=\u001b[0m\u001b[1;32mTrue\u001b[0m\u001b[1;33m,\u001b[0m \u001b[0mdata\u001b[0m\u001b[1;33m=\u001b[0m\u001b[1;32mNone\u001b[0m\u001b[1;33m,\u001b[0m \u001b[1;33m**\u001b[0m\u001b[0mkwargs\u001b[0m\u001b[1;33m)\u001b[0m\u001b[1;33m:\u001b[0m\u001b[1;33m\u001b[0m\u001b[1;33m\u001b[0m\u001b[0m\n\u001b[1;32m-> 2761\u001b[1;33m     return gca().plot(\n\u001b[0m\u001b[0;32m   2762\u001b[0m         *args, scalex=scalex, scaley=scaley, **({\"data\": data} if data\n\u001b[0;32m   2763\u001b[0m         is not None else {}), **kwargs)\n",
      "\u001b[1;32mc:\\users\\jose\\appdata\\local\\programs\\python\\python38-32\\lib\\site-packages\\matplotlib\\axes\\_axes.py\u001b[0m in \u001b[0;36mplot\u001b[1;34m(self, scalex, scaley, data, *args, **kwargs)\u001b[0m\n\u001b[0;32m   1644\u001b[0m         \"\"\"\n\u001b[0;32m   1645\u001b[0m         \u001b[0mkwargs\u001b[0m \u001b[1;33m=\u001b[0m \u001b[0mcbook\u001b[0m\u001b[1;33m.\u001b[0m\u001b[0mnormalize_kwargs\u001b[0m\u001b[1;33m(\u001b[0m\u001b[0mkwargs\u001b[0m\u001b[1;33m,\u001b[0m \u001b[0mmlines\u001b[0m\u001b[1;33m.\u001b[0m\u001b[0mLine2D\u001b[0m\u001b[1;33m)\u001b[0m\u001b[1;33m\u001b[0m\u001b[1;33m\u001b[0m\u001b[0m\n\u001b[1;32m-> 1646\u001b[1;33m         \u001b[0mlines\u001b[0m \u001b[1;33m=\u001b[0m \u001b[1;33m[\u001b[0m\u001b[1;33m*\u001b[0m\u001b[0mself\u001b[0m\u001b[1;33m.\u001b[0m\u001b[0m_get_lines\u001b[0m\u001b[1;33m(\u001b[0m\u001b[1;33m*\u001b[0m\u001b[0margs\u001b[0m\u001b[1;33m,\u001b[0m \u001b[0mdata\u001b[0m\u001b[1;33m=\u001b[0m\u001b[0mdata\u001b[0m\u001b[1;33m,\u001b[0m \u001b[1;33m**\u001b[0m\u001b[0mkwargs\u001b[0m\u001b[1;33m)\u001b[0m\u001b[1;33m]\u001b[0m\u001b[1;33m\u001b[0m\u001b[1;33m\u001b[0m\u001b[0m\n\u001b[0m\u001b[0;32m   1647\u001b[0m         \u001b[1;32mfor\u001b[0m \u001b[0mline\u001b[0m \u001b[1;32min\u001b[0m \u001b[0mlines\u001b[0m\u001b[1;33m:\u001b[0m\u001b[1;33m\u001b[0m\u001b[1;33m\u001b[0m\u001b[0m\n\u001b[0;32m   1648\u001b[0m             \u001b[0mself\u001b[0m\u001b[1;33m.\u001b[0m\u001b[0madd_line\u001b[0m\u001b[1;33m(\u001b[0m\u001b[0mline\u001b[0m\u001b[1;33m)\u001b[0m\u001b[1;33m\u001b[0m\u001b[1;33m\u001b[0m\u001b[0m\n",
      "\u001b[1;32mc:\\users\\jose\\appdata\\local\\programs\\python\\python38-32\\lib\\site-packages\\matplotlib\\axes\\_base.py\u001b[0m in \u001b[0;36m__call__\u001b[1;34m(self, *args, **kwargs)\u001b[0m\n\u001b[0;32m    214\u001b[0m                 \u001b[0mthis\u001b[0m \u001b[1;33m+=\u001b[0m \u001b[0margs\u001b[0m\u001b[1;33m[\u001b[0m\u001b[1;36m0\u001b[0m\u001b[1;33m]\u001b[0m\u001b[1;33m,\u001b[0m\u001b[1;33m\u001b[0m\u001b[1;33m\u001b[0m\u001b[0m\n\u001b[0;32m    215\u001b[0m                 \u001b[0margs\u001b[0m \u001b[1;33m=\u001b[0m \u001b[0margs\u001b[0m\u001b[1;33m[\u001b[0m\u001b[1;36m1\u001b[0m\u001b[1;33m:\u001b[0m\u001b[1;33m]\u001b[0m\u001b[1;33m\u001b[0m\u001b[1;33m\u001b[0m\u001b[0m\n\u001b[1;32m--> 216\u001b[1;33m             \u001b[1;32myield\u001b[0m \u001b[1;32mfrom\u001b[0m \u001b[0mself\u001b[0m\u001b[1;33m.\u001b[0m\u001b[0m_plot_args\u001b[0m\u001b[1;33m(\u001b[0m\u001b[0mthis\u001b[0m\u001b[1;33m,\u001b[0m \u001b[0mkwargs\u001b[0m\u001b[1;33m)\u001b[0m\u001b[1;33m\u001b[0m\u001b[1;33m\u001b[0m\u001b[0m\n\u001b[0m\u001b[0;32m    217\u001b[0m \u001b[1;33m\u001b[0m\u001b[0m\n\u001b[0;32m    218\u001b[0m     \u001b[1;32mdef\u001b[0m \u001b[0mget_next_color\u001b[0m\u001b[1;33m(\u001b[0m\u001b[0mself\u001b[0m\u001b[1;33m)\u001b[0m\u001b[1;33m:\u001b[0m\u001b[1;33m\u001b[0m\u001b[1;33m\u001b[0m\u001b[0m\n",
      "\u001b[1;32mc:\\users\\jose\\appdata\\local\\programs\\python\\python38-32\\lib\\site-packages\\matplotlib\\axes\\_base.py\u001b[0m in \u001b[0;36m_plot_args\u001b[1;34m(self, tup, kwargs)\u001b[0m\n\u001b[0;32m    340\u001b[0m \u001b[1;33m\u001b[0m\u001b[0m\n\u001b[0;32m    341\u001b[0m         \u001b[1;32mif\u001b[0m \u001b[0mx\u001b[0m\u001b[1;33m.\u001b[0m\u001b[0mshape\u001b[0m\u001b[1;33m[\u001b[0m\u001b[1;36m0\u001b[0m\u001b[1;33m]\u001b[0m \u001b[1;33m!=\u001b[0m \u001b[0my\u001b[0m\u001b[1;33m.\u001b[0m\u001b[0mshape\u001b[0m\u001b[1;33m[\u001b[0m\u001b[1;36m0\u001b[0m\u001b[1;33m]\u001b[0m\u001b[1;33m:\u001b[0m\u001b[1;33m\u001b[0m\u001b[1;33m\u001b[0m\u001b[0m\n\u001b[1;32m--> 342\u001b[1;33m             raise ValueError(f\"x and y must have same first dimension, but \"\n\u001b[0m\u001b[0;32m    343\u001b[0m                              f\"have shapes {x.shape} and {y.shape}\")\n\u001b[0;32m    344\u001b[0m         \u001b[1;32mif\u001b[0m \u001b[0mx\u001b[0m\u001b[1;33m.\u001b[0m\u001b[0mndim\u001b[0m \u001b[1;33m>\u001b[0m \u001b[1;36m2\u001b[0m \u001b[1;32mor\u001b[0m \u001b[0my\u001b[0m\u001b[1;33m.\u001b[0m\u001b[0mndim\u001b[0m \u001b[1;33m>\u001b[0m \u001b[1;36m2\u001b[0m\u001b[1;33m:\u001b[0m\u001b[1;33m\u001b[0m\u001b[1;33m\u001b[0m\u001b[0m\n",
      "\u001b[1;31mValueError\u001b[0m: x and y must have same first dimension, but have shapes (2700,) and (3600,)"
     ]
    },
    {
     "data": {
      "image/png": "[encoded data removed]",
      "text/plain": [
       "<Figure size 1296x576 with 1 Axes>"
      ]
     },
     "metadata": {
      "needs_background": "light"
     },
     "output_type": "display_data"
    }
   ],
   "source": [
    "graf_enten(Magia,'Magia',False,18,8)"
   ]
  },
  {
   "cell_type": "code",
   "execution_count": 25,
   "metadata": {
    "ExecuteTime": {
     "end_time": "2020-06-20T23:31:47.121094Z",
     "start_time": "2020-06-20T23:31:47.115074Z"
    }
   },
   "outputs": [
    {
     "data": {
      "text/plain": [
       "2700"
      ]
     },
     "execution_count": 25,
     "metadata": {},
     "output_type": "execute_result"
    }
   ],
   "source": [
    "len(Magia_2700.Ent)"
   ]
  },
  {
   "cell_type": "markdown",
   "metadata": {
    "heading_collapsed": true
   },
   "source": [
    "## Graficamos Entendimiento"
   ]
  },
  {
   "cell_type": "markdown",
   "metadata": {
    "heading_collapsed": true
   },
   "source": [
    "## Comparaciones"
   ]
  },
  {
   "cell_type": "code",
   "execution_count": null,
   "metadata": {
    "ExecuteTime": {
     "end_time": "2020-06-18T16:44:29.824411Z",
     "start_time": "2020-06-18T16:44:29.546193Z"
    },
    "code_folding": [
     0
    ],
    "hidden": true
   },
   "outputs": [],
   "source": [
    "#Comparacion promedios estructuras de estudio\n",
    "t=np.arange(1,3601)\n",
    "plt.figure(figsize=(18,6))\n",
    "#plt.plot(t,y,color='gray',marker='_',alpha=0.1)\n",
    "plt.plot(t, Magia.Ent,label='Magia')\n",
    "plt.plot(t, Vogler.Ent,label='Vogler')\n",
    "plt.plot(t, Harmon.Ent,label='Harmon')\n",
    "plt.plot(t, Arist.Ent,label='Aristóteles')\n",
    "plt.ylabel('Entendimiento',fontsize=16)\n",
    "plt.xlabel('Tiempo (s)',fontsize=16)\n",
    "#plt.axis([0, 3600, 0, 1])\n",
    "plt.xticks(np.arange(0, 3601, step=300),fontsize=13)\n",
    "plt.yticks(np.arange(0, 0.4, step=0.05),fontsize=13)\n",
    "plt.grid(alpha=0.3)\n",
    "plt.title ('Comparación Entendimiento Promedio de las Estructuras de Estudio',fontsize=20)\n",
    "plt.legend(prop={'size': 13})\n",
    "#plt.savefig('Images/Entendimiento_Estructuras_Estudio_100.png', dpi=300,bbox_inches=\"tight\")\n",
    "plt.show()"
   ]
  },
  {
   "cell_type": "code",
   "execution_count": null,
   "metadata": {
    "ExecuteTime": {
     "end_time": "2020-06-18T16:44:35.785872Z",
     "start_time": "2020-06-18T16:44:35.528967Z"
    },
    "code_folding": [
     0
    ],
    "hidden": true
   },
   "outputs": [],
   "source": [
    "#Comparacion promedios estructuras de estudio con desviación estandar\n",
    "t=np.arange(1,3601)\n",
    "plt.figure(figsize=(20,6))\n",
    "#plt.plot(t,y,color='gray',marker='_',alpha=0.1)\n",
    "plt.plot(t, Magia.Ent,label='Magia')\n",
    "plt.plot(t, Vogler.Ent,label='Vogler')\n",
    "plt.plot(t, Harmon.Ent,label='Harmon')\n",
    "plt.plot(t, Arist.Ent,label='Aristóteles')\n",
    "\n",
    "plt.fill_between(t, Magia.Ent - Magia.DvE, Magia.Ent + Magia.DvE,  alpha=0.15)\n",
    "plt.fill_between(t, Vogler.Ent - Vogler.DvE, Vogler.Ent + Vogler.DvE, alpha=0.15)\n",
    "plt.fill_between(t, Harmon.Ent - Harmon.DvE, Harmon.Ent + Harmon.DvE,  alpha=0.15)\n",
    "plt.fill_between(t, Arist.Ent - Arist.DvE, Arist.Ent + Arist.DvE,  alpha=0.15)\n",
    "\n",
    "\n",
    "plt.ylabel('Entendimiento',fontsize=16)\n",
    "plt.xlabel('Tiempo (s)',fontsize=16)\n",
    "#plt.axis([0, 3600, 0, 1])\n",
    "plt.xticks(np.arange(0, 3601, step=300),fontsize=13)\n",
    "plt.yticks(np.arange(0, 0.46, step=0.05),fontsize=13)\n",
    "plt.grid(alpha=0.3)\n",
    "plt.title ('Comparación Entendimiento Promedio de las Estructuras de Estudio',fontsize=20)\n",
    "plt.legend(loc = 'upper left',  prop={'size': 13})\n",
    "#plt.savefig('Images/Entendimiento_Estructuras_Estudio_DV_100.png', dpi=300,bbox_inches=\"tight\")\n",
    "plt.show()"
   ]
  },
  {
   "cell_type": "code",
   "execution_count": null,
   "metadata": {
    "ExecuteTime": {
     "end_time": "2020-06-18T16:34:17.092004Z",
     "start_time": "2020-06-18T16:34:16.880569Z"
    },
    "code_folding": [
     0
    ],
    "hidden": true
   },
   "outputs": [],
   "source": [
    "#Comparación entendimiento Vogler y Magia\n",
    "plt.figure(figsize=(20,6))\n",
    "plt.plot(t, Magia.Ent,label='Magia')\n",
    "plt.plot(t, Vogler.Ent,label='Vogler')\n",
    "\n",
    "plt.fill_between(t, Magia.Ent - Magia.DvE, Magia.Ent + Magia.DvE,  alpha=0.15)\n",
    "plt.fill_between(t, Vogler.Ent - Vogler.DvE, Vogler.Ent + Vogler.DvE, alpha=0.15)\n",
    "\n",
    "plt.ylabel('Entendimiento Normalizado',fontsize=16)\n",
    "plt.xlabel('Tiempo (s)',fontsize=16)\n",
    "#plt.axis([0, 3600, 0, 1])\n",
    "plt.xticks(np.arange(0, 3601, step=300),fontsize=13)\n",
    "plt.yticks(np.arange(0, 0.46, step=0.05),fontsize=13)\n",
    "plt.grid(alpha=0.3)\n",
    "plt.title ('Comparación Entendimiento Estructuras Magia y Vogler',fontsize=20)\n",
    "plt.legend(loc = 'upper left',  prop={'size': 13})\n",
    "#plt.savefig('Images/Entendimiento_Magia_Vogler_DV_100.png', dpi=300,bbox_inches=\"tight\")\n",
    "plt.show()"
   ]
  },
  {
   "cell_type": "code",
   "execution_count": null,
   "metadata": {
    "ExecuteTime": {
     "end_time": "2020-06-18T16:38:11.917179Z",
     "start_time": "2020-06-18T16:38:11.694583Z"
    },
    "code_folding": [
     0
    ],
    "hidden": true
   },
   "outputs": [],
   "source": [
    "#Comparación Entendimiento C1800, C1200, C600\n",
    "plt.figure(figsize=(20,6))\n",
    "plt.plot(t, C1800.Ent,label='Cada 1800s')\n",
    "plt.plot(t, C1200.Ent,label='Cada 1200s')\n",
    "plt.plot(t, C600.Ent ,label='Cada 600s')\n",
    "\n",
    "plt.fill_between(t, C1800.Ent - C1800.DvE, C1800.Ent + C1800.DvE,  alpha=0.15)\n",
    "plt.fill_between(t, C1200.Ent - C1200.DvE, C1200.Ent + C1200.DvE,  alpha=0.15)\n",
    "plt.fill_between(t,  C600.Ent - C600.DvE,   C600.Ent + C600.DvE,  alpha=0.15)\n",
    "\n",
    "\n",
    "plt.ylabel('Entendimiento',fontsize=16)\n",
    "plt.xlabel('Tiempo (s)',fontsize=16)\n",
    "#plt.axis([0, 3600, 0, 1])\n",
    "plt.xticks(np.arange(0, 3601, step=300),fontsize=13)\n",
    "plt.yticks(np.arange(0, 0.46, step=0.05),fontsize=13)\n",
    "plt.grid(alpha=0.3)\n",
    "plt.title ('Comparación Entendimiento. Estructuras con pausas uniformes',fontsize=20)\n",
    "plt.legend(loc = 'upper left',  prop={'size': 13})\n",
    "#plt.savefig('Images/Entendimiento_Magia_Vogler_DV_100.png', dpi=300,bbox_inches=\"tight\")\n",
    "plt.show()"
   ]
  },
  {
   "cell_type": "code",
   "execution_count": null,
   "metadata": {
    "ExecuteTime": {
     "end_time": "2020-06-18T16:41:32.121401Z",
     "start_time": "2020-06-18T16:41:31.866641Z"
    },
    "code_folding": [
     0
    ],
    "hidden": true
   },
   "outputs": [],
   "source": [
    "#Comparación Entendimiento C180, C90\n",
    "plt.figure(figsize=(20,6))\n",
    "\n",
    "plt.plot(t, C180.Ent,label='Cada 180s')\n",
    "plt.plot(t, C90.Ent ,label='Cada 90s')\n",
    "\n",
    "plt.fill_between(t, C180.Ent - C180.DvE, C180.Ent + C180.DvE,  alpha=0.15)\n",
    "plt.fill_between(t, C90.Ent - C90.DvE, C90.Ent + C90.DvE,  alpha=0.15)\n",
    "\n",
    "plt.ylabel('Entendimiento',fontsize=16)\n",
    "plt.xlabel('Tiempo (s)',fontsize=16)\n",
    "#plt.axis([0, 3600, 0, 1])\n",
    "plt.xticks(np.arange(0, 3601, step=300),fontsize=13)\n",
    "plt.yticks(np.arange(0, 0.91, step=0.05),fontsize=13)\n",
    "plt.grid(alpha=0.3)\n",
    "plt.title ('Comparación Entendimiento. Estructuras con pausas uniformes.',fontsize=20)\n",
    "plt.legend(loc = 'upper left',  prop={'size': 13})\n",
    "#plt.savefig('Images/Entendimiento_Magia_Vogler_DV_100.png', dpi=300,bbox_inches=\"tight\")\n",
    "plt.show()"
   ]
  },
  {
   "cell_type": "code",
   "execution_count": null,
   "metadata": {
    "ExecuteTime": {
     "end_time": "2020-06-18T16:53:02.681705Z",
     "start_time": "2020-06-18T16:53:02.381442Z"
    },
    "code_folding": [
     0
    ],
    "hidden": true
   },
   "outputs": [],
   "source": [
    "#Comparación Entendimientos C1800, C1200, C600, C360, C180, C90, C30\n",
    "plt.figure(figsize=(20,6))\n",
    "\n",
    "plt.plot(t, C1800.Ent,label='Cada 1800s')\n",
    "plt.plot(t, C1200.Ent,label='Cada 1200s')\n",
    "plt.plot(t, C600.Ent ,label='Cada 600s')\n",
    "plt.plot(t, C360.Ent ,label='Cada 360')\n",
    "plt.plot(t, C180.Ent ,label='Cada 180s')\n",
    "plt.plot(t, C90.Ent  ,label='Cada 90s')\n",
    "plt.plot(t, C30.Ent  ,label='Cada 90s')\n",
    "\n",
    "plt.fill_between(t, C1800.Ent - C1800.DvE, C1800.Ent + C1800.DvE,  alpha=0.15)\n",
    "plt.fill_between(t, C1200.Ent - C1200.DvE, C1200.Ent + C1200.DvE,  alpha=0.15)\n",
    "plt.fill_between(t,  C600.Ent - C600.DvE,   C600.Ent + C600.DvE,  alpha=0.15)\n",
    "plt.fill_between(t,  C360.Ent - C360.DvE,   C360.Ent + C360.DvE,  alpha=0.15)\n",
    "plt.fill_between(t,  C180.Ent - C180.DvE, C180.Ent + C180.DvE,  alpha=0.15)\n",
    "plt.fill_between(t,  C90.Ent - C90.DvE, C90.Ent + C90.DvE,  alpha=0.15)\n",
    "plt.fill_between(t,  C30.Ent - C30.DvE, C30.Ent + C30.DvE,  alpha=0.15)\n",
    "\n",
    "\n",
    "plt.ylabel('Entendimiento Normalizado',fontsize=16)\n",
    "plt.xlabel('Tiempo (s)',fontsize=16)\n",
    "#plt.axis([0, 3600, 0, 1])\n",
    "plt.xticks(np.arange(0, 3601, step=300),fontsize=13)\n",
    "plt.yticks(np.arange(0, 0.91, step=0.05),fontsize=13)\n",
    "plt.grid(alpha=0.3)\n",
    "plt.title ('Comparación Pausas cada 90 y 180s.',fontsize=20)\n",
    "plt.legend(loc = 'upper left',  prop={'size': 13})\n",
    "#plt.savefig('Images/Entendimiento_Magia_Vogler_DV_100.png', dpi=300,bbox_inches=\"tight\")\n",
    "plt.show()"
   ]
  },
  {
   "cell_type": "code",
   "execution_count": null,
   "metadata": {
    "ExecuteTime": {
     "end_time": "2020-06-20T10:13:44.596409Z",
     "start_time": "2020-06-20T10:13:43.376671Z"
    },
    "code_folding": [],
    "hidden": true
   },
   "outputs": [],
   "source": [
    "#Comparación Tiempos Caso General\n",
    "plt.figure(figsize=(15,8))\n",
    "t  =np.arange(1,3601)\n",
    "tt =np.arange(1,1801)\n",
    "ttt=np.arange(1,5401)\n",
    "\n",
    "\n",
    "plt.subplot(311)\n",
    "plt.plot(tt[0:500], S1800.At.iloc[0:500])\n",
    "plt.fill_between(tt[0:500], S1800.At.iloc[0:500] - S1800.Dv.iloc[0:500], S1800.At.iloc[0:500] + S1800.Dv.iloc[0:500],  alpha=0.15)\n",
    "\n",
    "plt.ylabel('Atención',fontsize=16)\n",
    "plt.xlabel('Tiempo (s)',fontsize=16)\n",
    "#plt.axis([0, 3600, 0, 1])\n",
    "plt.xticks(np.arange(0, 501, step=30),fontsize=13)\n",
    "#plt.yticks(np.arange(0, 0.11, step=0.05),fontsize=13)\n",
    "plt.grid(alpha=0.3)\n",
    "plt.title ('Caso General, T= 1800s',fontsize=20)\n",
    "\n",
    "plt.subplot(312)\n",
    "plt.plot(t[0:500], S3600.At.iloc[0:500])\n",
    "plt.fill_between(t[0:500], S3600.At.iloc[0:500] - S3600.Dv.iloc[0:500], S3600.At.iloc[0:500] + S3600.Dv.iloc[0:500],  alpha=0.15)\n",
    "\n",
    "plt.ylabel('Atención',fontsize=16)\n",
    "plt.xlabel('Tiempo (s)',fontsize=16)\n",
    "#plt.axis([0, 3600, 0, 1])\n",
    "plt.xticks(np.arange(0, 501, step=30),fontsize=13)\n",
    "#plt.yticks(np.arange(0, 0.11, step=0.05),fontsize=13)\n",
    "plt.grid(alpha=0.3)\n",
    "plt.title ('Caso General, T= 3600s',fontsize=20)\n",
    "\n",
    "plt.subplot(313)\n",
    "plt.plot(ttt[0:500], S5400.At.iloc[0:500])\n",
    "plt.fill_between(ttt[0:500], S5400.At.iloc[0:500] - S5400.Dv.iloc[0:500], S5400.At.iloc[0:500] + S5400.Dv.iloc[0:500],  alpha=0.15)\n",
    "\n",
    "plt.ylabel('Atención',fontsize=16)\n",
    "plt.xlabel('Tiempo (s)',fontsize=16)\n",
    "#plt.axis([0, 3600, 0, 1])\n",
    "plt.xticks(np.arange(0, 501, step=30),fontsize=13)\n",
    "#plt.yticks(np.arange(0, 0.11, step=0.05),fontsize=13)\n",
    "plt.grid(alpha=0.3)\n",
    "plt.title ('Caso General, T= 5400s',fontsize=20)\n",
    "\n",
    "plt.tight_layout()\n",
    "plt.savefig('Images/comparacion_tiempos_general.png', dpi=300,bbox_inches=\"tight\")\n",
    "plt.close()"
   ]
  },
  {
   "cell_type": "code",
   "execution_count": null,
   "metadata": {
    "ExecuteTime": {
     "end_time": "2020-06-20T08:51:05.790109Z",
     "start_time": "2020-06-20T08:51:05.420064Z"
    },
    "code_folding": [
     0
    ],
    "hidden": true
   },
   "outputs": [],
   "source": [
    "#Comparación Agentes Caso General\n",
    "plt.figure(figsize=(15,8))\n",
    "tt=np.arange(1,1801)\n",
    "ttt=np.arange(1,5401)\n",
    "\n",
    "plt.subplot(311)\n",
    "plt.plot(t, S100.At)\n",
    "plt.fill_between(t, S100.At - S100.Dv, S100.At + S100.Dv,  alpha=0.15)\n",
    "\n",
    "plt.ylabel('Atención',fontsize=16)\n",
    "plt.xlabel('Tiempo (s)',fontsize=16)\n",
    "#plt.axis([0, 3600, 0, 1])\n",
    "plt.xticks(np.arange(0, 3601, step=300),fontsize=13)\n",
    "plt.yticks(np.arange(-30, 120, step=20),fontsize=13)\n",
    "plt.grid(alpha=0.3)\n",
    "plt.title ('Caso General, # Agentes = 100',fontsize=20)\n",
    "\n",
    "\n",
    "plt.subplot(312)\n",
    "plt.plot(t, S500.At)\n",
    "plt.fill_between(t, S500.At - S500.Dv, S500.At + S500.Dv,  alpha=0.15)\n",
    "\n",
    "plt.ylabel('Atención',fontsize=16)\n",
    "plt.xlabel('Tiempo (s)',fontsize=16)\n",
    "#plt.axis([0, 3600, 0, 1])\n",
    "plt.xticks(np.arange(0, 3601, step=300),fontsize=13)\n",
    "plt.yticks(np.arange(-30, 120, step=20),fontsize=13)\n",
    "plt.grid(alpha=0.3)\n",
    "plt.title ('Caso General, # Agentes = 500',fontsize=20)\n",
    "#plt.legend(loc = 'upper right',  prop={'size': 13})\n",
    "\n",
    "\n",
    "plt.subplot(313)\n",
    "plt.plot(t, S1000.At)\n",
    "plt.fill_between(t, S1000.At - S1000.Dv, S1000.At + S1000.Dv,  alpha=0.15)\n",
    "\n",
    "plt.ylabel('Atención',fontsize=16)\n",
    "plt.xlabel('Tiempo (s)',fontsize=16)\n",
    "#plt.axis([0, 3600, 0, 1])\n",
    "plt.xticks(np.arange(0, 3601, step=300),fontsize=13)\n",
    "plt.yticks(np.arange(-30, 120, step=20),fontsize=13)\n",
    "plt.grid(alpha=0.3)\n",
    "plt.title ('Caso General, # Agentes = 1000',fontsize=20)\n",
    "#plt.legend(loc = 'upper right',  prop={'size': 13})\n",
    "\n",
    "plt.tight_layout()\n",
    "#plt.savefig('Images/Entendimiento_Magia_Vogler_DV_100.png', dpi=300,bbox_inches=\"tight\")\n",
    "plt.show()"
   ]
  },
  {
   "cell_type": "markdown",
   "metadata": {
    "heading_collapsed": true
   },
   "source": [
    "## Graficamos Atención y Entendimiento"
   ]
  }
 ],
 "metadata": {
  "kernelspec": {
   "display_name": "Python 3",
   "language": "python",
   "name": "python3"
  },
  "language_info": {
   "codemirror_mode": {
    "name": "ipython",
    "version": 3
   },
   "file_extension": ".py",
   "mimetype": "text/x-python",
   "name": "python",
   "nbconvert_exporter": "python",
   "pygments_lexer": "ipython3",
   "version": "3.8.2"
  }
 },
 "nbformat": 4,
 "nbformat_minor": 4
}
